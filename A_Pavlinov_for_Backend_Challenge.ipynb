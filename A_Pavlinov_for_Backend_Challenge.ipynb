{
  "cells": [
    {
      "cell_type": "markdown",
      "metadata": {
        "colab_type": "text",
        "id": "view-in-github"
      },
      "source": [
        "<a href=\"https://colab.research.google.com/github/pavlinov/code_examples/blob/master/A_Pavlinov_for_Backend_Challenge.ipynb\" target=\"_parent\"><img src=\"https://colab.research.google.com/assets/colab-badge.svg\" alt=\"Open In Colab\"/></a>"
      ]
    },
    {
      "cell_type": "code",
      "execution_count": null,
      "metadata": {},
      "outputs": [],
      "source": [
        "\"\"\"\n",
        "Backend Challenge for Developer Stardome 🌟\n",
        "\n",
        "Please find the technical challenge for the Backend Developer role below.\n",
        "\n",
        "We know technical challenges require some personal time commitment, so just take your time to complete it.\n",
        "We’d just like you to share an estimated delivery date once you get a chance to review it.\n",
        "\n",
        "If you have any questions or doubts, please feel free to reach out to the person who has sent you this document.\n",
        "\n",
        "Thank you and good luck! 🌐🚀🌌\n",
        "\n",
        "================================== Challenge ==================================\n",
        "\n",
        "The high-level goal is to take a series of video files, transcribe it using open-source models and make the transcript searchable using embedding-based search.\n",
        "\n",
        "Please solve this challenge in Python and share detailed instructions on how to run the code.\n",
        "\n",
        "● 🎙️➡️📝 Take input as a set of video files (.mp4), run it through any publicly available Speech-to-text engine (S2T).\n",
        "● 📝➡️🔢 Chunk the output transcript, vectorize it using open-source text embedding models (BERT is one alternative, but feel free to explore others).\n",
        "● 🗃️ Store the embeddings of the transcript chunks in an open-source graph database that can support vector search, a popular example is FAISS, but feel free to explore other options.\n",
        "● 🔍 On the querying side, the user input is a text query, which should be used to search the top K results against the vector DB.\n",
        "\n",
        "⭐⭐⭐ Bonus points:\n",
        "● If your search system can support searching against both text and embeddings both in a single query and rerank the results based on relevance.\n",
        "\"\"\""
      ]
    },
    {
      "cell_type": "code",
      "execution_count": 27,
      "metadata": {
        "colab": {
          "base_uri": "https://localhost:8080/",
          "height": 1000
        },
        "id": "qKzBDi-MSOQZ",
        "outputId": "41a8ef90-39e9-4df3-8556-dc2d50f5cb08"
      },
      "outputs": [
        {
          "name": "stdout",
          "output_type": "stream",
          "text": [
            "\u001b[31mERROR: pip's dependency resolver does not currently take into account all the packages that are installed. This behaviour is the source of the following dependency conflicts.\n",
            "lida 0.0.10 requires fastapi, which is not installed.\n",
            "lida 0.0.10 requires kaleido, which is not installed.\n",
            "lida 0.0.10 requires python-multipart, which is not installed.\n",
            "lida 0.0.10 requires uvicorn, which is not installed.\n",
            "llmx 0.0.15a0 requires cohere, which is not installed.\n",
            "gcsfs 2023.6.0 requires fsspec==2023.6.0, but you have fsspec 2023.12.2 which is incompatible.\n",
            "imageio 2.31.6 requires pillow<10.1.0,>=8.3.2, but you have pillow 10.2.0 which is incompatible.\n",
            "tensorflow-probability 0.22.0 requires typing-extensions<4.6.0, but you have typing-extensions 4.9.0 which is incompatible.\n",
            "torchaudio 2.1.0+cu121 requires torch==2.1.0, but you have torch 2.1.2 which is incompatible.\n",
            "torchdata 0.7.0 requires torch==2.1.0, but you have torch 2.1.2 which is incompatible.\n",
            "torchtext 0.16.0 requires torch==2.1.0, but you have torch 2.1.2 which is incompatible.\u001b[0m\u001b[31m\n",
            "\u001b[0mCollecting nltk\n",
            "  Using cached nltk-3.8.1-py3-none-any.whl (1.5 MB)\n",
            "Collecting pyarrow\n",
            "  Using cached pyarrow-14.0.2-cp310-cp310-manylinux_2_28_x86_64.whl (38.0 MB)\n",
            "Collecting click (from nltk)\n",
            "  Using cached click-8.1.7-py3-none-any.whl (97 kB)\n",
            "Collecting joblib (from nltk)\n",
            "  Using cached joblib-1.3.2-py3-none-any.whl (302 kB)\n",
            "Collecting regex>=2021.8.3 (from nltk)\n",
            "  Using cached regex-2023.12.25-cp310-cp310-manylinux_2_17_x86_64.manylinux2014_x86_64.whl (773 kB)\n",
            "Collecting tqdm (from nltk)\n",
            "  Using cached tqdm-4.66.1-py3-none-any.whl (78 kB)\n",
            "Collecting numpy>=1.16.6 (from pyarrow)\n",
            "  Using cached numpy-1.26.3-cp310-cp310-manylinux_2_17_x86_64.manylinux2014_x86_64.whl (18.2 MB)\n",
            "Installing collected packages: tqdm, regex, numpy, joblib, click, pyarrow, nltk\n",
            "  Attempting uninstall: tqdm\n",
            "    Found existing installation: tqdm 4.66.1\n",
            "    Uninstalling tqdm-4.66.1:\n",
            "      Successfully uninstalled tqdm-4.66.1\n",
            "  Attempting uninstall: regex\n",
            "    Found existing installation: regex 2023.12.25\n",
            "    Uninstalling regex-2023.12.25:\n",
            "      Successfully uninstalled regex-2023.12.25\n",
            "  Attempting uninstall: numpy\n",
            "    Found existing installation: numpy 1.26.3\n",
            "    Uninstalling numpy-1.26.3:\n",
            "      Successfully uninstalled numpy-1.26.3\n",
            "  Attempting uninstall: joblib\n",
            "    Found existing installation: joblib 1.3.2\n",
            "    Uninstalling joblib-1.3.2:\n",
            "      Successfully uninstalled joblib-1.3.2\n",
            "  Attempting uninstall: click\n",
            "    Found existing installation: click 8.1.7\n",
            "    Uninstalling click-8.1.7:\n",
            "      Successfully uninstalled click-8.1.7\n",
            "  Attempting uninstall: pyarrow\n",
            "    Found existing installation: pyarrow 14.0.2\n",
            "    Uninstalling pyarrow-14.0.2:\n",
            "      Successfully uninstalled pyarrow-14.0.2\n",
            "  Attempting uninstall: nltk\n",
            "    Found existing installation: nltk 3.8.1\n",
            "    Uninstalling nltk-3.8.1:\n",
            "      Successfully uninstalled nltk-3.8.1\n",
            "\u001b[31mERROR: pip's dependency resolver does not currently take into account all the packages that are installed. This behaviour is the source of the following dependency conflicts.\n",
            "lida 0.0.10 requires fastapi, which is not installed.\n",
            "lida 0.0.10 requires kaleido, which is not installed.\n",
            "lida 0.0.10 requires python-multipart, which is not installed.\n",
            "lida 0.0.10 requires uvicorn, which is not installed.\n",
            "imageio 2.31.6 requires pillow<10.1.0,>=8.3.2, but you have pillow 10.2.0 which is incompatible.\n",
            "tensorflow-probability 0.22.0 requires typing-extensions<4.6.0, but you have typing-extensions 4.9.0 which is incompatible.\n",
            "torchtext 0.16.0 requires torch==2.1.0, but you have torch 2.1.2 which is incompatible.\u001b[0m\u001b[31m\n",
            "\u001b[0mSuccessfully installed click-8.1.7 joblib-1.3.2 nltk-3.8.1 numpy-1.26.3 pyarrow-14.0.2 regex-2023.12.25 tqdm-4.66.1\n"
          ]
        },
        {
          "data": {
            "application/vnd.colab-display-data+json": {
              "pip_warning": {
                "packages": [
                  "click",
                  "joblib",
                  "nltk",
                  "pyarrow",
                  "regex",
                  "tqdm"
                ]
              }
            }
          },
          "metadata": {},
          "output_type": "display_data"
        }
      ],
      "source": [
        "!pip -q install python-dotenv tiktoken\n",
        "!pip -q install openai\n",
        "!pip -q install milvus pymilvus\n",
        "!pip -q install langchain\n",
        "!pip -q install pydub\n",
        "!pip -q install --upgrade --force-reinstall sentence_transformers\n",
        "!pip -q install instructor pydantic\n",
        "!pip install --upgrade --force-reinstall nltk pyarrow\n",
        "\n",
        "\n",
        "import os\n",
        "# Before RUN set SECRET VARIABLE in colab: OPENAI_API_KEY <<<<<<<<<< READ THIS FIRST\n",
        "from google.colab import userdata\n",
        "OPENAI_API_KEY = userdata.get('OPENAI_API_KEY')\n",
        "os.environ[\"OPENAI_API_KEY\"] = OPENAI_API_KEY"
      ]
    },
    {
      "cell_type": "code",
      "execution_count": 4,
      "metadata": {
        "id": "nFSX39mnWnNm"
      },
      "outputs": [],
      "source": [
        "from milvus import default_server\n",
        "# Start Milvus on local env\n",
        "default_server.stop()\n",
        "default_server.set_base_dir('milvus_data')\n",
        "default_server.cleanup()\n",
        "default_server.start()"
      ]
    },
    {
      "cell_type": "code",
      "execution_count": 5,
      "metadata": {
        "id": "ql_a7nS_aKGL"
      },
      "outputs": [],
      "source": [
        "# STOP Vector DB\n",
        "#default_server.stop()"
      ]
    },
    {
      "cell_type": "code",
      "execution_count": 2,
      "metadata": {
        "colab": {
          "base_uri": "https://localhost:8080/"
        },
        "id": "QrvgeqGE_Sdq",
        "outputId": "e68e2666-4dbc-4aa5-b929-31fe4590f8a1"
      },
      "outputs": [
        {
          "name": "stdout",
          "output_type": "stream",
          "text": [
            "Patch created: /root/pymilvus_client___init__.py.patch\n"
          ]
        },
        {
          "data": {
            "text/plain": [
              "['patching file /usr/local/lib/python3.10/dist-packages/pymilvus/client/__init__.py',\n",
              " 'Reversed (or previously applied) patch detected!  Assume -R? [n] ',\n",
              " 'Apply anyway? [n] ',\n",
              " 'Skipping patch.',\n",
              " '1 out of 1 hunk ignored -- saving rejects to file /usr/local/lib/python3.10/dist-packages/pymilvus/client/__init__.py.rej']"
            ]
          },
          "execution_count": 2,
          "metadata": {},
          "output_type": "execute_result"
        }
      ],
      "source": [
        "patch = \"\"\"--- __init__.py\t2024-01-18 09:55:13.548485781 +0000\n",
        "+++ __init___new.py\t2024-01-18 09:55:47.077306881 +0000\n",
        "@@ -11,8 +11,8 @@\n",
        " __version__ = \"0.0.0.dev\"\n",
        "\n",
        "\n",
        "-with suppress(DistributionNotFound):\n",
        "-    __version__ = get_distribution(\"pymilvus\").version\n",
        "+#with suppress(DistributionNotFound):\n",
        "+#    __version__ = get_distribution(\"pymilvus\").version\n",
        "\n",
        "\n",
        " def get_commit(version: str = \"\", short: bool = True) -> str:\n",
        "\n",
        "\"\"\"\n",
        "patch_path = '/root/pymilvus_client___init__.py.patch'\n",
        "with open(patch_path, 'w') as file:\n",
        "  file.write(patch)\n",
        "  print(f\"Patch created: {patch_path}\")\n",
        "\n",
        "!!patch --dry-run '/usr/local/lib/python3.10/dist-packages/pymilvus/client/__init__.py' '/root/pymilvus_client___init__.py.patch'\n",
        "!!patch '/usr/local/lib/python3.10/dist-packages/pymilvus/client/__init__.py' '/root/pymilvus_client___init__.py.patch'"
      ]
    },
    {
      "cell_type": "code",
      "execution_count": 5,
      "metadata": {
        "colab": {
          "base_uri": "https://localhost:8080/"
        },
        "id": "hjdOB-vEXtTb",
        "outputId": "33a493d8-4b85-4b05-96d7-d1b960bc32c2"
      },
      "outputs": [
        {
          "name": "stdout",
          "output_type": "stream",
          "text": [
            "Create connection...\n",
            "List connections:\n",
            "[('default', <pymilvus.client.grpc_handler.GrpcHandler object at 0x7924a208ae30>)]\n"
          ]
        }
      ],
      "source": [
        "from pymilvus import utility, connections\n",
        "\n",
        "# Constans\n",
        "_HOST = \"127.0.0.1\"\n",
        "_PORT = default_server.listen_port\n",
        "\n",
        "_COLLECTION_NAME = 'VIDOSO_AUDIO'\n",
        "_DIM = 384\n",
        "_INDEX_PARAM = {\n",
        "    \"metric_type\": \"COSINE\",\n",
        "    \"index_type\": \"HNSW\",\n",
        "    \"params\": {\"M\": 8, \"efConstruction\": 64},\n",
        "}\n",
        "\n",
        "_QUERY_PARAM = {\n",
        "    \"metric_type\": \"COSINE\",\n",
        "    \"params\": {\"ef\": 64},\n",
        "}\n",
        "\n",
        "# TODO: !!! Make fix in module to start conection in google collab:\n",
        "# /usr/local/lib/python3.10/dist-packages/pymilvus/client/__init__.py\n",
        "# +14 #with suppress(DistributionNotFound):\n",
        "# +15 #     __version__ = get_distribution(\"pymilvus\").version\n",
        "\n",
        "def create_connection():\n",
        "    print(f\"Create connection...\")\n",
        "    connections.disconnect(\"default\")\n",
        "    connections.connect(\"default\", timeout=10, host=_HOST, port=_PORT)\n",
        "    print(f\"List connections:\")\n",
        "    print(connections.list_connections())\n",
        "\n",
        "create_connection()"
      ]
    },
    {
      "cell_type": "code",
      "execution_count": 6,
      "metadata": {
        "colab": {
          "base_uri": "https://localhost:8080/"
        },
        "id": "a6lsZIDpclI9",
        "outputId": "a6c37232-95c3-48ba-dfc2-bd64386bb3c1"
      },
      "outputs": [
        {
          "name": "stdout",
          "output_type": "stream",
          "text": [
            "v2.3.3-lite\n",
            "[('default', <pymilvus.client.grpc_handler.GrpcHandler object at 0x7924a208ae30>)]\n",
            "List collections:\n",
            "[]\n"
          ]
        }
      ],
      "source": [
        "print(utility.get_server_version())\n",
        "print(connections.list_connections())\n",
        "\n",
        "def list_collections():\n",
        "    print(\"List collections:\")\n",
        "    print(utility.list_collections())\n",
        "\n",
        "list_collections()\n",
        "\n",
        "def drop_collection(name):\n",
        "  if utility.has_collection(name):\n",
        "    print(f\"Dropping collection: {name}\")\n",
        "    utility.drop_collection(name)"
      ]
    },
    {
      "cell_type": "code",
      "execution_count": 7,
      "metadata": {
        "colab": {
          "base_uri": "https://localhost:8080/"
        },
        "id": "hVaeD8hwgCbg",
        "outputId": "48574844-1faa-4784-8cac-609f440f6a96"
      },
      "outputs": [
        {
          "name": "stdout",
          "output_type": "stream",
          "text": [
            "Collection created: VIDOSO_AUDIO\n",
            "Collection VIDOSO_AUDIO\n",
            "List collections:\n",
            "['VIDOSO_AUDIO']\n"
          ]
        }
      ],
      "source": [
        "from pymilvus import FieldSchema, CollectionSchema, DataType, Collection\n",
        "\n",
        "def create_vector_collection(collection_name):\n",
        "    drop_collection(collection_name)\n",
        "\n",
        "    fields = [\n",
        "      primary_field   := FieldSchema(name='pk',       dtype=DataType.INT64,        auto_id=True,     is_primary=True,  description=\"int64\", ),\n",
        "      vector_field    := FieldSchema(name='vector',   dtype=DataType.FLOAT_VECTOR, dim=_DIM,         is_primary=False, description=\"float vector\", ),\n",
        "      file_name_field := FieldSchema(name=\"fileName\", dtype=DataType.VARCHAR,      max_length=256,                     description=\"File name\", ),\n",
        "      text_field      := FieldSchema(name=\"text\",     dtype=DataType.VARCHAR,      max_length=65535,                   description=\"Text description of the arifact\", ),\n",
        "    ]\n",
        "\n",
        "\n",
        "    schema = CollectionSchema(fields, description=\"collection description\")\n",
        "\n",
        "    collection = Collection(name=collection_name, schema=schema)\n",
        "\n",
        "    collection.create_index(field_name=\"vector\", index_params=_INDEX_PARAM)\n",
        "\n",
        "    collection.load()\n",
        "\n",
        "    print(\"Collection created:\", collection_name)\n",
        "    return collection\n",
        "\n",
        "# create collection\n",
        "collection = create_vector_collection(_COLLECTION_NAME)\n",
        "\n",
        "\n",
        "if utility.has_collection(_COLLECTION_NAME):\n",
        "    print(f\"Collection {_COLLECTION_NAME}\")\n",
        "\n",
        "list_collections()"
      ]
    },
    {
      "cell_type": "code",
      "execution_count": 9,
      "metadata": {
        "id": "3Yem5xMrQf6Z"
      },
      "outputs": [],
      "source": [
        "import os\n",
        "import openai\n",
        "\n",
        "#from dotenv import load_dotenv\n",
        "#load_dotenv()\n",
        "# OPENAI_API_KEY = os.getenv(\"OPENAI_API_KEY\")\n",
        "\n",
        "from google.colab import userdata\n",
        "OPENAI_API_KEY = userdata.get('OPENAI_API_KEY')\n",
        "os.environ[\"OPENAI_API_KEY\"] = OPENAI_API_KEY\n",
        "\n",
        "openai.api_key = OPENAI_API_KEY"
      ]
    },
    {
      "cell_type": "code",
      "execution_count": 9,
      "metadata": {
        "colab": {
          "base_uri": "https://localhost:8080/",
          "height": 1000
        },
        "id": "J_aGSnD_4E9v",
        "outputId": "dc9ad2b2-3db6-480b-cad9-75f5b551997a"
      },
      "outputs": [
        {
          "name": "stdout",
          "output_type": "stream",
          "text": [
            "Collecting nltk\n",
            "  Using cached nltk-3.8.1-py3-none-any.whl (1.5 MB)\n",
            "Collecting pyarrow\n",
            "  Using cached pyarrow-14.0.2-cp310-cp310-manylinux_2_28_x86_64.whl (38.0 MB)\n",
            "Collecting click (from nltk)\n",
            "  Using cached click-8.1.7-py3-none-any.whl (97 kB)\n",
            "Collecting joblib (from nltk)\n",
            "  Using cached joblib-1.3.2-py3-none-any.whl (302 kB)\n",
            "Collecting regex>=2021.8.3 (from nltk)\n",
            "  Using cached regex-2023.12.25-cp310-cp310-manylinux_2_17_x86_64.manylinux2014_x86_64.whl (773 kB)\n",
            "Collecting tqdm (from nltk)\n",
            "  Using cached tqdm-4.66.1-py3-none-any.whl (78 kB)\n",
            "Collecting numpy>=1.16.6 (from pyarrow)\n",
            "  Using cached numpy-1.26.3-cp310-cp310-manylinux_2_17_x86_64.manylinux2014_x86_64.whl (18.2 MB)\n",
            "Installing collected packages: tqdm, regex, numpy, joblib, click, pyarrow, nltk\n",
            "  Attempting uninstall: tqdm\n",
            "    Found existing installation: tqdm 4.66.1\n",
            "    Uninstalling tqdm-4.66.1:\n",
            "      Successfully uninstalled tqdm-4.66.1\n",
            "  Attempting uninstall: regex\n",
            "    Found existing installation: regex 2023.12.25\n",
            "    Uninstalling regex-2023.12.25:\n",
            "      Successfully uninstalled regex-2023.12.25\n",
            "  Attempting uninstall: numpy\n",
            "    Found existing installation: numpy 1.26.3\n",
            "    Uninstalling numpy-1.26.3:\n",
            "      Successfully uninstalled numpy-1.26.3\n",
            "  Attempting uninstall: joblib\n",
            "    Found existing installation: joblib 1.3.2\n",
            "    Uninstalling joblib-1.3.2:\n",
            "      Successfully uninstalled joblib-1.3.2\n",
            "  Attempting uninstall: click\n",
            "    Found existing installation: click 8.1.7\n",
            "    Uninstalling click-8.1.7:\n",
            "      Successfully uninstalled click-8.1.7\n",
            "  Attempting uninstall: pyarrow\n",
            "    Found existing installation: pyarrow 14.0.2\n",
            "    Uninstalling pyarrow-14.0.2:\n",
            "      Successfully uninstalled pyarrow-14.0.2\n",
            "  Attempting uninstall: nltk\n",
            "    Found existing installation: nltk 3.8.1\n",
            "    Uninstalling nltk-3.8.1:\n",
            "      Successfully uninstalled nltk-3.8.1\n",
            "\u001b[31mERROR: pip's dependency resolver does not currently take into account all the packages that are installed. This behaviour is the source of the following dependency conflicts.\n",
            "lida 0.0.10 requires fastapi, which is not installed.\n",
            "lida 0.0.10 requires kaleido, which is not installed.\n",
            "lida 0.0.10 requires python-multipart, which is not installed.\n",
            "lida 0.0.10 requires uvicorn, which is not installed.\n",
            "imageio 2.31.6 requires pillow<10.1.0,>=8.3.2, but you have pillow 10.2.0 which is incompatible.\n",
            "tensorflow-probability 0.22.0 requires typing-extensions<4.6.0, but you have typing-extensions 4.9.0 which is incompatible.\n",
            "torchtext 0.16.0 requires torch==2.1.0, but you have torch 2.1.2 which is incompatible.\u001b[0m\u001b[31m\n",
            "\u001b[0mSuccessfully installed click-8.1.7 joblib-1.3.2 nltk-3.8.1 numpy-1.26.3 pyarrow-14.0.2 regex-2023.12.25 tqdm-4.66.1\n"
          ]
        },
        {
          "data": {
            "application/vnd.colab-display-data+json": {
              "pip_warning": {
                "packages": [
                  "click",
                  "pyarrow",
                  "tqdm"
                ]
              }
            }
          },
          "metadata": {},
          "output_type": "display_data"
        }
      ],
      "source": [
        "#!pip install --upgrade --force-reinstall nltk pyarrow"
      ]
    },
    {
      "cell_type": "code",
      "execution_count": 10,
      "metadata": {
        "colab": {
          "base_uri": "https://localhost:8080/"
        },
        "id": "8hrUlUVfeWEg",
        "outputId": "d4678d08-499f-4c70-8ea5-d2b74a79373d"
      },
      "outputs": [
        {
          "name": "stdout",
          "output_type": "stream",
          "text": [
            "HuggingFaceEmbeddings(client=SentenceTransformer(\n",
            "  (0): Transformer({'max_seq_length': 256, 'do_lower_case': False}) with Transformer model: BertModel \n",
            "  (1): Pooling({'word_embedding_dimension': 384, 'pooling_mode_cls_token': False, 'pooling_mode_mean_tokens': True, 'pooling_mode_max_tokens': False, 'pooling_mode_mean_sqrt_len_tokens': False})\n",
            "  (2): Normalize()\n",
            "), model_name='all-MiniLM-L6-v2', cache_folder=None, model_kwargs={}, encode_kwargs={}, multi_process=False)\n",
            "'Collection: VIDOSO_AUDIO'\n",
            "{'host': '127.0.0.1', 'port': 19530}\n"
          ]
        }
      ],
      "source": [
        "from langchain.vectorstores import Milvus\n",
        "from pprint import pprint\n",
        "from langchain_community.embeddings import HuggingFaceEmbeddings\n",
        "\n",
        "embeddings = HuggingFaceEmbeddings(model_name=\"all-MiniLM-L6-v2\")\n",
        "# re-install nltk, pyarrow in case:\n",
        "# AttributeError: module 'numpy.linalg._umath_linalg' has no attribute '_ilp64'\n",
        "\n",
        "VECTOR_DSN = {\"host\": _HOST, \"port\": _PORT}\n",
        "\n",
        "pprint(embeddings)\n",
        "pprint(f\"Collection: {_COLLECTION_NAME}\")\n",
        "pprint(VECTOR_DSN)\n",
        "\n",
        "vector_store = Milvus(embedding_function=embeddings, collection_name=_COLLECTION_NAME, connection_args=VECTOR_DSN)\n",
        "\n",
        "#vector_store\n"
      ]
    },
    {
      "cell_type": "code",
      "execution_count": 11,
      "metadata": {
        "id": "ddwaJCnlaUgz"
      },
      "outputs": [],
      "source": [
        "from langchain.docstore.document import Document\n",
        "\n",
        "def make_documents(texts, file_name='fileName.txt'):\n",
        "    prepared_documents = []\n",
        "    for item_text in texts:\n",
        "        text_document = Document(\n",
        "            page_content=item_text,\n",
        "            metadata={\n",
        "                \"fileName\": file_name,\n",
        "                # ...\n",
        "            },\n",
        "        )\n",
        "        prepared_documents.append(text_document)\n",
        "    return prepared_documents\n",
        "\n",
        "#prepared_documents = make_documents(texts, 'fileName.txt')\n",
        "\n",
        "#prepared_documents"
      ]
    },
    {
      "cell_type": "code",
      "execution_count": 78,
      "metadata": {
        "colab": {
          "base_uri": "https://localhost:8080/"
        },
        "id": "8hpaLbxKdB5a",
        "outputId": "ff88cc02-4a6c-49cb-ddac-bc209ec9e0bc"
      },
      "outputs": [
        {
          "data": {
            "text/plain": [
              "[447063204769563312,\n",
              " 447063204769563313,\n",
              " 447063204769563314,\n",
              " 447063204769563315]"
            ]
          },
          "execution_count": 78,
          "metadata": {},
          "output_type": "execute_result"
        }
      ],
      "source": [
        "#vector_store.add_documents(prepared_documents)"
      ]
    },
    {
      "cell_type": "code",
      "execution_count": null,
      "metadata": {
        "colab": {
          "base_uri": "https://localhost:8080/",
          "height": 56
        },
        "id": "US_o-8L5BX7N",
        "outputId": "f4dbfeeb-01e8-4ce2-ba0d-7afdfc93d954"
      },
      "outputs": [
        {
          "data": {
            "text/html": [
              "\n",
              "     <input type=\"file\" id=\"files-ede027e8-264e-48a8-86e8-1e3069bfcbb9\" name=\"files[]\" multiple disabled\n",
              "        style=\"border:none\" />\n",
              "     <output id=\"result-ede027e8-264e-48a8-86e8-1e3069bfcbb9\">\n",
              "      Upload widget is only available when the cell has been executed in the\n",
              "      current browser session. Please rerun this cell to enable.\n",
              "      </output>\n",
              "      <script>// Copyright 2017 Google LLC\n",
              "//\n",
              "// Licensed under the Apache License, Version 2.0 (the \"License\");\n",
              "// you may not use this file except in compliance with the License.\n",
              "// You may obtain a copy of the License at\n",
              "//\n",
              "//      http://www.apache.org/licenses/LICENSE-2.0\n",
              "//\n",
              "// Unless required by applicable law or agreed to in writing, software\n",
              "// distributed under the License is distributed on an \"AS IS\" BASIS,\n",
              "// WITHOUT WARRANTIES OR CONDITIONS OF ANY KIND, either express or implied.\n",
              "// See the License for the specific language governing permissions and\n",
              "// limitations under the License.\n",
              "\n",
              "/**\n",
              " * @fileoverview Helpers for google.colab Python module.\n",
              " */\n",
              "(function(scope) {\n",
              "function span(text, styleAttributes = {}) {\n",
              "  const element = document.createElement('span');\n",
              "  element.textContent = text;\n",
              "  for (const key of Object.keys(styleAttributes)) {\n",
              "    element.style[key] = styleAttributes[key];\n",
              "  }\n",
              "  return element;\n",
              "}\n",
              "\n",
              "// Max number of bytes which will be uploaded at a time.\n",
              "const MAX_PAYLOAD_SIZE = 100 * 1024;\n",
              "\n",
              "function _uploadFiles(inputId, outputId) {\n",
              "  const steps = uploadFilesStep(inputId, outputId);\n",
              "  const outputElement = document.getElementById(outputId);\n",
              "  // Cache steps on the outputElement to make it available for the next call\n",
              "  // to uploadFilesContinue from Python.\n",
              "  outputElement.steps = steps;\n",
              "\n",
              "  return _uploadFilesContinue(outputId);\n",
              "}\n",
              "\n",
              "// This is roughly an async generator (not supported in the browser yet),\n",
              "// where there are multiple asynchronous steps and the Python side is going\n",
              "// to poll for completion of each step.\n",
              "// This uses a Promise to block the python side on completion of each step,\n",
              "// then passes the result of the previous step as the input to the next step.\n",
              "function _uploadFilesContinue(outputId) {\n",
              "  const outputElement = document.getElementById(outputId);\n",
              "  const steps = outputElement.steps;\n",
              "\n",
              "  const next = steps.next(outputElement.lastPromiseValue);\n",
              "  return Promise.resolve(next.value.promise).then((value) => {\n",
              "    // Cache the last promise value to make it available to the next\n",
              "    // step of the generator.\n",
              "    outputElement.lastPromiseValue = value;\n",
              "    return next.value.response;\n",
              "  });\n",
              "}\n",
              "\n",
              "/**\n",
              " * Generator function which is called between each async step of the upload\n",
              " * process.\n",
              " * @param {string} inputId Element ID of the input file picker element.\n",
              " * @param {string} outputId Element ID of the output display.\n",
              " * @return {!Iterable<!Object>} Iterable of next steps.\n",
              " */\n",
              "function* uploadFilesStep(inputId, outputId) {\n",
              "  const inputElement = document.getElementById(inputId);\n",
              "  inputElement.disabled = false;\n",
              "\n",
              "  const outputElement = document.getElementById(outputId);\n",
              "  outputElement.innerHTML = '';\n",
              "\n",
              "  const pickedPromise = new Promise((resolve) => {\n",
              "    inputElement.addEventListener('change', (e) => {\n",
              "      resolve(e.target.files);\n",
              "    });\n",
              "  });\n",
              "\n",
              "  const cancel = document.createElement('button');\n",
              "  inputElement.parentElement.appendChild(cancel);\n",
              "  cancel.textContent = 'Cancel upload';\n",
              "  const cancelPromise = new Promise((resolve) => {\n",
              "    cancel.onclick = () => {\n",
              "      resolve(null);\n",
              "    };\n",
              "  });\n",
              "\n",
              "  // Wait for the user to pick the files.\n",
              "  const files = yield {\n",
              "    promise: Promise.race([pickedPromise, cancelPromise]),\n",
              "    response: {\n",
              "      action: 'starting',\n",
              "    }\n",
              "  };\n",
              "\n",
              "  cancel.remove();\n",
              "\n",
              "  // Disable the input element since further picks are not allowed.\n",
              "  inputElement.disabled = true;\n",
              "\n",
              "  if (!files) {\n",
              "    return {\n",
              "      response: {\n",
              "        action: 'complete',\n",
              "      }\n",
              "    };\n",
              "  }\n",
              "\n",
              "  for (const file of files) {\n",
              "    const li = document.createElement('li');\n",
              "    li.append(span(file.name, {fontWeight: 'bold'}));\n",
              "    li.append(span(\n",
              "        `(${file.type || 'n/a'}) - ${file.size} bytes, ` +\n",
              "        `last modified: ${\n",
              "            file.lastModifiedDate ? file.lastModifiedDate.toLocaleDateString() :\n",
              "                                    'n/a'} - `));\n",
              "    const percent = span('0% done');\n",
              "    li.appendChild(percent);\n",
              "\n",
              "    outputElement.appendChild(li);\n",
              "\n",
              "    const fileDataPromise = new Promise((resolve) => {\n",
              "      const reader = new FileReader();\n",
              "      reader.onload = (e) => {\n",
              "        resolve(e.target.result);\n",
              "      };\n",
              "      reader.readAsArrayBuffer(file);\n",
              "    });\n",
              "    // Wait for the data to be ready.\n",
              "    let fileData = yield {\n",
              "      promise: fileDataPromise,\n",
              "      response: {\n",
              "        action: 'continue',\n",
              "      }\n",
              "    };\n",
              "\n",
              "    // Use a chunked sending to avoid message size limits. See b/62115660.\n",
              "    let position = 0;\n",
              "    do {\n",
              "      const length = Math.min(fileData.byteLength - position, MAX_PAYLOAD_SIZE);\n",
              "      const chunk = new Uint8Array(fileData, position, length);\n",
              "      position += length;\n",
              "\n",
              "      const base64 = btoa(String.fromCharCode.apply(null, chunk));\n",
              "      yield {\n",
              "        response: {\n",
              "          action: 'append',\n",
              "          file: file.name,\n",
              "          data: base64,\n",
              "        },\n",
              "      };\n",
              "\n",
              "      let percentDone = fileData.byteLength === 0 ?\n",
              "          100 :\n",
              "          Math.round((position / fileData.byteLength) * 100);\n",
              "      percent.textContent = `${percentDone}% done`;\n",
              "\n",
              "    } while (position < fileData.byteLength);\n",
              "  }\n",
              "\n",
              "  // All done.\n",
              "  yield {\n",
              "    response: {\n",
              "      action: 'complete',\n",
              "    }\n",
              "  };\n",
              "}\n",
              "\n",
              "scope.google = scope.google || {};\n",
              "scope.google.colab = scope.google.colab || {};\n",
              "scope.google.colab._files = {\n",
              "  _uploadFiles,\n",
              "  _uploadFilesContinue,\n",
              "};\n",
              "})(self);\n",
              "</script> "
            ],
            "text/plain": [
              "<IPython.core.display.HTML object>"
            ]
          },
          "metadata": {},
          "output_type": "display_data"
        }
      ],
      "source": [
        "# UPLOAD VIDEO FILE\n",
        "from google.colab import files\n",
        "uploaded = files.upload()"
      ]
    },
    {
      "cell_type": "code",
      "execution_count": 14,
      "metadata": {
        "colab": {
          "base_uri": "https://localhost:8080/"
        },
        "id": "q-rFDj1qQdXH",
        "outputId": "32a28244-5196-4061-e34f-61f05908316e"
      },
      "outputs": [
        {
          "name": "stdout",
          "output_type": "stream",
          "text": [
            "Ground Effects Vehicles.mp4                  Ground_Effects_Vehicles.mp4                 \n",
            "Anduril Lattice Counter Drone System.mp4     Anduril_Lattice_Counter_Drone_System.mp4    \n",
            "videoplayback.mp4                            videoplayback.mp4                           \n"
          ]
        }
      ],
      "source": [
        "from werkzeug.utils import secure_filename\n",
        "#uploaded.__dir__()\n",
        "for uploaded_file in uploaded:\n",
        "    ss_filename = secure_filename(uploaded_file)\n",
        "    print(f\"{uploaded_file:<44} {ss_filename:<44}\")\n",
        "\n",
        "#own_file, _ = uploaded.popitem()\n",
        "#print(own_file)"
      ]
    },
    {
      "cell_type": "code",
      "execution_count": 15,
      "metadata": {
        "id": "DjVo02wCYHVL"
      },
      "outputs": [],
      "source": [
        "import os\n",
        "\n",
        "def create_audio_folder():\n",
        "  audio_folder = 'audio'\n",
        "  if not os.path.exists(audio_folder):\n",
        "    os.makedirs(audio_folder)"
      ]
    },
    {
      "cell_type": "code",
      "execution_count": 16,
      "metadata": {
        "colab": {
          "base_uri": "https://localhost:8080/"
        },
        "id": "zjtGEkeS0cHy",
        "outputId": "9f19e5e8-c28f-47df-c21a-15b4c68c7d68"
      },
      "outputs": [
        {
          "name": "stdout",
          "output_type": "stream",
          "text": [
            "Ground Effects Vehicles.mp4 - in processing\n",
            "Transcription: I'm John Schuster, and I've been working with wings and ground effect for many years. Somewhat stimulated by the work that Dr. Alexander Lippisch did back in the 60s at Collins Radio Company where he developed the concept of the ram wing and the airfoil boat as they called it. This model here works on that principle and it's a model of one of Lippisch's later ground effect airplanes, their wing and ground effect. It's a Dorney Air model called the X-113, and you can look that up, very similar here except it will have sponsons because it takes off from water, and it will also have polyhedral wingtips somewhat like we have on this model in order to improve the stability of the airplane. The way this concept works is that it's called a captured air bubble. As the airplane moves along the ground, air is pushed under the wing and the trailing edges are sealed against the water or the ground, so the air basically comes to a halt under there, and we call that stagnation pressure. That's what lifts the model up, as the model lifts up then the air vents, but as it continues to move forward it continues to process this captured air bubble through the wing. The T-tail is on there to keep the nose down because you may be familiar with the unlimited hydroplanes and how once they hit rough water and pitch up they'll continue to depart front over back. This would do the same if we didn't have the T-tail. This T-tail is a lifting tail, you can see from the camber, the curvature of the surface that it's designed to lift up. Because as the airplane moves out of ground effect, up and away, the center pressure moves from the centroid of the area forward, and as it does that, and because there's no movable control surfaces, it pitches up. As a result, the way to defeat that is to make a large enough tail that keeps the nose down when it's moving along. That's the basic principle, the X-113 was 1965, maybe, and the Collins airfoil boat was 63 or earlier. This concept here is exactly the same, just a little bit different, dihedral angle and lifting tail. It also has a surface along here that tries to improve the trailing edge seal against the ground, and so its performance maybe is a little bit better. This one's the same, just many ways of showing you how they're built. This one, open structure with monocoat, and the rest of these are basically solids. What I found out over the years of flying these things is that it really doesn't matter what goes on under the wing. You can have skin over the wing on the underside, or you can have it just form a single sheet of balsa in this case. You can see the constant element lines, 10, 15, 20, 25 percent, well actually it's a little bit more than that, but at any rate, and it's just curved. It doesn't really affect the performance. I found out quite by accident through damaging these models that even with the skin removed off the bottom on one side and skin on the other, it performed the same. It really couldn't tell the difference. So with that, and this one's a variation on the theme, I was trying to get a model that you could also throw as a free flight up and away, and it would be trimmed, so it's definitely a different issue than what we had to deal with when we were flying in ground effect because as I mentioned, the center of pressure shift. This one tries to do two things. It's balanced forward so it can fly free flight, and it also has the polyhedral and the V-tail which tend to counteract the anhedral that you see on this airplane. This airplane trying to fly free and up and away will want to roll over so that the dihedral is in the normal direction, but to counteract that, the V-tail and the tips seem to allow this one to fly free. It also flies a little bit in ground effect, and we can see that, but the best performers in ground effect are these two here. This one I use over very rough surfaces, asphalt, street, sidewalk, what have you, and you can see it's well beaten up, and it doesn't really make much difference whether you take the details to make it look fairly nice or just leave it rough, it flies just as well. This one has end plates on the wing to keep air from leaking out the sides, and other than that, they're basically the same. Okay.\n",
            "\n",
            "[\"I'm John Schuster, and I've been working with wings and ground effect for many years. Somewhat stimulated by the work that Dr. Alexander Lippisch did back in the 60s at Collins Radio Company where he developed the concept of the ram wing and the airfoil boat as they called it. This model here works on that principle and it's a model of one of Lippisch's later ground effect airplanes, their wing and ground effect. It's a Dorney Air model called the X-113, and you can look that up, very similar here except it will have sponsons because it takes off from water, and it will also have polyhedral wingtips somewhat like we have on this model in order to improve the stability of the airplane. The way this concept works is that it's called a captured air bubble. As the airplane moves along the ground, air is pushed under the wing and the trailing edges are sealed against the water or the ground, so the air basically comes to a halt under there, and we call that stagnation pressure. That's what lifts the model up, as the model lifts up then the air vents, but as it continues to move forward it continues to process this captured air bubble through the wing. The T-tail is on there to keep the nose down because you may be familiar with the unlimited hydroplanes and how once they hit rough water and pitch up they'll continue to depart front over back. This would do the same if we didn't have the T-tail. This T-tail is a lifting tail, you can see from the camber, the curvature of the surface that it's designed to lift up. Because as the airplane moves out of ground effect, up and away, the center pressure moves from the centroid of the area forward, and as it does that, and because there's no movable control surfaces, it pitches up. As a result, the way to defeat that is to make a large enough tail that keeps the nose down when it's moving along. That's the basic principle, the X-113 was 1965, maybe, and the Collins airfoil boat was 63 or earlier. This concept here is exactly the same, just a little bit different, dihedral angle and lifting tail. It also has a surface along here that tries to improve the trailing edge seal against the ground, and so its performance maybe is a little bit better. This one's the same, just many ways of showing you how they're built. This one, open structure with monocoat, and the rest of these are basically solids. What I found out over the years of flying these things is that it really doesn't matter what goes on under the wing. You can have skin over the wing on the underside, or you can have it just form a single sheet of balsa in this case. You can see the constant element lines, 10, 15, 20, 25 percent, well actually it's a little bit more than that, but at any rate, and it's just curved. It doesn't really affect the performance. I found out quite by accident through damaging these models that even with the skin removed off the bottom on one side and skin on the other, it performed the same. It really couldn't tell the difference. So with that, and this one's a variation on the theme, I was trying to get a model that you could also throw as a free flight up and away, and it would be trimmed, so it's definitely a different issue than what we had to deal with when we were flying in ground effect because as I mentioned, the center of pressure shift. This one tries to do two things. It's balanced forward so it can fly free flight, and it also has the polyhedral and the V-tail which tend to counteract the anhedral that you see on this airplane. This airplane trying to fly free and up and away will want to roll over so that the dihedral is in the normal direction, but to counteract that, the V-tail and the tips seem to allow this one to fly free. It also flies a little bit in ground effect, and we can see that, but the best performers in ground effect are these two here. This one I use over very rough surfaces, asphalt, street, sidewalk, what have you, and you can see it's well beaten up, and it doesn't really make much difference whether you take the details to make it look fairly nice or just leave it rough, it flies just as well. This one has end plates on the wing to keep air from leaking out the sides, and other than that, they're basically the same. Okay.\\n\"]\n",
            "[Document(page_content=\"I'm John Schuster, and I've been working with wings and ground effect for many years. Somewhat stimulated by the work that Dr. Alexander Lippisch did back in the 60s at Collins Radio Company where he developed the concept of the ram wing and the airfoil boat as they called it. This model here works on that principle and it's a model of one of Lippisch's later ground effect airplanes, their wing and ground effect. It's a Dorney Air model called the X-113, and you can look that up, very similar here except it will have sponsons because it takes off from water, and it will also have polyhedral wingtips somewhat like we have on this model in order to improve the stability of the airplane. The way this concept works is that it's called a captured air bubble. As the airplane moves along the ground, air is pushed under the wing and the trailing edges are sealed against the water or the ground, so the air basically comes to a halt under there, and we call that stagnation pressure. That's what lifts the model up, as the model lifts up then the air vents, but as it continues to move forward it continues to process this captured air bubble through the wing. The T-tail is on there to keep the nose down because you may be familiar with the unlimited hydroplanes and how once they hit rough water and pitch up they'll continue to depart front over back. This would do the same if we didn't have the T-tail. This T-tail is a lifting tail, you can see from the camber, the curvature of the surface that it's designed to lift up. Because as the airplane moves out of ground effect, up and away, the center pressure moves from the centroid of the area forward, and as it does that, and because there's no movable control surfaces, it pitches up. As a result, the way to defeat that is to make a large enough tail that keeps the nose down when it's moving along. That's the basic principle, the X-113 was 1965, maybe, and the Collins airfoil boat was 63 or earlier. This concept here is exactly the same, just a little bit different, dihedral angle and lifting tail. It also has a surface along here that tries to improve the trailing edge seal against the ground, and so its performance maybe is a little bit better. This one's the same, just many ways of showing you how they're built. This one, open structure with monocoat, and the rest of these are basically solids. What I found out over the years of flying these things is that it really doesn't matter what goes on under the wing. You can have skin over the wing on the underside, or you can have it just form a single sheet of balsa in this case. You can see the constant element lines, 10, 15, 20, 25 percent, well actually it's a little bit more than that, but at any rate, and it's just curved. It doesn't really affect the performance. I found out quite by accident through damaging these models that even with the skin removed off the bottom on one side and skin on the other, it performed the same. It really couldn't tell the difference. So with that, and this one's a variation on the theme, I was trying to get a model that you could also throw as a free flight up and away, and it would be trimmed, so it's definitely a different issue than what we had to deal with when we were flying in ground effect because as I mentioned, the center of pressure shift. This one tries to do two things. It's balanced forward so it can fly free flight, and it also has the polyhedral and the V-tail which tend to counteract the anhedral that you see on this airplane. This airplane trying to fly free and up and away will want to roll over so that the dihedral is in the normal direction, but to counteract that, the V-tail and the tips seem to allow this one to fly free. It also flies a little bit in ground effect, and we can see that, but the best performers in ground effect are these two here. This one I use over very rough surfaces, asphalt, street, sidewalk, what have you, and you can see it's well beaten up, and it doesn't really make much difference whether you take the details to make it look fairly nice or just leave it rough, it flies just as well. This one has end plates on the wing to keep air from leaking out the sides, and other than that, they're basically the same. Okay.\\n\", metadata={'fileName': 'Ground Effects Vehicles.mp4'})]\n",
            "[447107182758990631]\n",
            "Anduril Lattice Counter Drone System.mp4 - in processing\n",
            "Transcription: ♪♪ ♪♪ ♪♪ ♪♪ ♪♪ ♪♪ ♪♪ ♪♪ ♪♪ ♪♪ ♪♪ ♪♪ ♪♪\n",
            "\n",
            "['♪♪ ♪♪ ♪♪ ♪♪ ♪♪ ♪♪ ♪♪ ♪♪ ♪♪ ♪♪ ♪♪ ♪♪ ♪♪\\n']\n",
            "[Document(page_content='♪♪ ♪♪ ♪♪ ♪♪ ♪♪ ♪♪ ♪♪ ♪♪ ♪♪ ♪♪ ♪♪ ♪♪ ♪♪\\n', metadata={'fileName': 'Anduril Lattice Counter Drone System.mp4'})]\n",
            "[447107182758990633]\n",
            "videoplayback.mp4 - in processing\n",
            "Transcription: Bonjour, j'ai reçu deux paquets de l'Ukraine, le plus petit ici est de Kiev, le deuxième est de Denipro. Ok, alors ouvrons le premier. Le premier est ce petit truc, c'est une partie d'un missile iskander russe 9M727 selon le vendeur. Comme vous pouvez le voir, il a vu de meilleurs journées. Ok, alors c'est un sensor optique, comme vous pouvez le voir sur la plaque de céramique, il y a 16 cellules photo, probablement des photodiodes infrarouges. Il semble que tous les connecteurs ont disparu, ok, on peut voir qu'il y a 4 PCB identiques, chaque PCB contient 4 amplificateurs, ils sont identiques, ok, alors il y a une autre partie au milieu, c'est un signal, les 16 signaux sont connectés à ce bord, il n'y a probablement qu'un bout, ok, alors c'est le IC de céramique, alors c'est la partie russe, obviément, code 2004, c'est probablement un encodement de ces 16 signaux, ça peut être intéressant de faire la réversion de ce petit truc, ça devrait être intéressant de réparer ce sensor, il y aura une vidéo spécifique pour ce sensor, ok, alors voyons le deuxième, ok, alors c'est une chose intéressante, c'est en fait un gyro d'optique de fer, qui a été installé dans un missile russe aussi, ok, alors c'est l'FPGA board, c'était à l'intérieur de ce truc, ok, alors c'est un gyro d'optique de fer de 3 axes, ok, alors on a 3 fois la même chose, un gyro sur chaque axe, il y a un rôle d'optique de fer ici, le gyro d'optique de fer utilise l'effet Sagnac, l'optique de fer est connectée à un LED, un LED infrarouge, il y en a un ici, ok, et à cause de la vitesse constante de la lumière, quand il y a une rotation d'un rôle ici, il y aura un délai relative de la lumière à l'extrémité de l'optique de fer, et ce délai est mesuré à l'aide d'un couplier, donc je pense qu'il y a un feed-back de cette chose, donc je pense que c'est le modulateur de phase, le but du modulateur de phase est de compenser le délai à cause de l'effet Sagnac, vous pouvez voir, il y a deux terminaux ici, cet input est probablement le contrôle du modulateur de phase. J'assume que ce circuit permet de moduler l'intensité de la lumière, on peut voir qu'il y a six parties ici, donc j'assume qu'il y a trois ADC et trois DAC, l'output de la photocelle doit être connecté à un ADC et le DAC permet le contrôle du modulateur de phase, il y a un couplier fort, c'est difficile de voir les références de ces parties, et il y a ici un FPGA d'Altera, c'est un cyclone 2, ok, et il y a aussi plusieurs parties sur le côté bas, malheureusement, ce bord a été enlevé de l'assemblée complète, vous pouvez voir que toutes les lignes ont été coupées, ok, donc il nous faut faire un petit réversinger pour reconnecter ces lignes et il peut être intéressant de tester ce dispositif, je pense qu'il devrait être possible, et on peut voir deux petits connecteurs circulaires, ok, un petit connecteur, on a un capteur de température ici, ok, donc je pense qu'il manque quelque chose ici, vous pouvez voir, parce qu'on a ce câble ici, et on en a un autre ici, et on peut voir des résidus de silicone ici, donc je pense qu'il manque quelque chose ici, ce sera intéressant de le savoir, peut-être que c'était le réservoir de puissance pour cette chose, je ne sais pas, je vais avoir besoin de faire le réversingering, c'est tout pour aujourd'hui, merci d'avoir regardé, à la prochaine fois pour une autre vidéo, au revoir.\n",
            "\n",
            "[\"Bonjour, j'ai reçu deux paquets de l'Ukraine, le plus petit ici est de Kiev, le deuxième est de Denipro. Ok, alors ouvrons le premier. Le premier est ce petit truc, c'est une partie d'un missile iskander russe 9M727 selon le vendeur. Comme vous pouvez le voir, il a vu de meilleurs journées. Ok, alors c'est un sensor optique, comme vous pouvez le voir sur la plaque de céramique, il y a 16 cellules photo, probablement des photodiodes infrarouges. Il semble que tous les connecteurs ont disparu, ok, on peut voir qu'il y a 4 PCB identiques, chaque PCB contient 4 amplificateurs, ils sont identiques, ok, alors il y a une autre partie au milieu, c'est un signal, les 16 signaux sont connectés à ce bord, il n'y a probablement qu'un bout, ok, alors c'est le IC de céramique, alors c'est la partie russe, obviément, code 2004, c'est probablement un encodement de ces 16 signaux, ça peut être intéressant de faire la réversion de ce petit truc, ça devrait être intéressant de réparer ce sensor, il y aura une vidéo spécifique pour ce sensor, ok, alors voyons le deuxième, ok, alors c'est une chose intéressante, c'est en fait un gyro d'optique de fer, qui a été installé dans un missile russe aussi, ok, alors c'est l'FPGA board, c'était à l'intérieur de ce truc, ok, alors c'est un gyro d'optique de fer de 3 axes, ok, alors on a 3 fois la même chose, un gyro sur chaque axe, il y a un rôle d'optique de fer ici, le gyro d'optique de fer utilise l'effet Sagnac, l'optique de fer est connectée à un LED, un LED infrarouge, il y en a un ici, ok, et à cause de la vitesse constante de la lumière, quand il y a une rotation d'un rôle ici, il y aura un délai relative de la lumière à l'extrémité de l'optique de fer, et ce délai est mesuré à l'aide d'un couplier, donc je pense qu'il y a un feed-back de cette chose, donc je pense que c'est le modulateur de phase, le but du modulateur de phase est de compenser le délai à cause de l'effet Sagnac, vous pouvez voir, il y a deux terminaux ici, cet input est probablement le contrôle du modulateur de phase. J'assume que ce circuit permet de moduler l'intensité de la lumière, on peut voir qu'il y a six parties ici, donc j'assume qu'il y a trois ADC et trois DAC, l'output de la photocelle doit être connecté à un ADC et le DAC permet le contrôle du modulateur de phase, il y a un couplier fort, c'est difficile de voir les références de ces parties, et il y a ici un FPGA d'Altera, c'est un cyclone 2, ok, et il y a aussi plusieurs parties sur le côté bas, malheureusement, ce bord a été enlevé de l'assemblée complète, vous pouvez voir que toutes les lignes ont été coupées, ok, donc il nous faut faire un petit réversinger pour reconnecter ces lignes et il peut être intéressant de tester ce dispositif, je pense qu'il devrait être possible, et on peut voir deux petits connecteurs circulaires, ok, un petit connecteur, on a un capteur de température ici, ok, donc je pense qu'il manque quelque chose ici, vous pouvez voir, parce qu'on a ce câble ici, et on en a un autre ici, et on peut voir des résidus de silicone ici, donc je pense qu'il manque quelque chose ici, ce sera intéressant de le savoir, peut-être que c'était le réservoir de puissance pour cette chose, je ne sais pas, je vais avoir besoin de faire le réversingering, c'est tout pour aujourd'hui, merci d'avoir regardé, à la prochaine fois pour une autre vidéo, au revoir.\\n\"]\n",
            "[Document(page_content=\"Bonjour, j'ai reçu deux paquets de l'Ukraine, le plus petit ici est de Kiev, le deuxième est de Denipro. Ok, alors ouvrons le premier. Le premier est ce petit truc, c'est une partie d'un missile iskander russe 9M727 selon le vendeur. Comme vous pouvez le voir, il a vu de meilleurs journées. Ok, alors c'est un sensor optique, comme vous pouvez le voir sur la plaque de céramique, il y a 16 cellules photo, probablement des photodiodes infrarouges. Il semble que tous les connecteurs ont disparu, ok, on peut voir qu'il y a 4 PCB identiques, chaque PCB contient 4 amplificateurs, ils sont identiques, ok, alors il y a une autre partie au milieu, c'est un signal, les 16 signaux sont connectés à ce bord, il n'y a probablement qu'un bout, ok, alors c'est le IC de céramique, alors c'est la partie russe, obviément, code 2004, c'est probablement un encodement de ces 16 signaux, ça peut être intéressant de faire la réversion de ce petit truc, ça devrait être intéressant de réparer ce sensor, il y aura une vidéo spécifique pour ce sensor, ok, alors voyons le deuxième, ok, alors c'est une chose intéressante, c'est en fait un gyro d'optique de fer, qui a été installé dans un missile russe aussi, ok, alors c'est l'FPGA board, c'était à l'intérieur de ce truc, ok, alors c'est un gyro d'optique de fer de 3 axes, ok, alors on a 3 fois la même chose, un gyro sur chaque axe, il y a un rôle d'optique de fer ici, le gyro d'optique de fer utilise l'effet Sagnac, l'optique de fer est connectée à un LED, un LED infrarouge, il y en a un ici, ok, et à cause de la vitesse constante de la lumière, quand il y a une rotation d'un rôle ici, il y aura un délai relative de la lumière à l'extrémité de l'optique de fer, et ce délai est mesuré à l'aide d'un couplier, donc je pense qu'il y a un feed-back de cette chose, donc je pense que c'est le modulateur de phase, le but du modulateur de phase est de compenser le délai à cause de l'effet Sagnac, vous pouvez voir, il y a deux terminaux ici, cet input est probablement le contrôle du modulateur de phase. J'assume que ce circuit permet de moduler l'intensité de la lumière, on peut voir qu'il y a six parties ici, donc j'assume qu'il y a trois ADC et trois DAC, l'output de la photocelle doit être connecté à un ADC et le DAC permet le contrôle du modulateur de phase, il y a un couplier fort, c'est difficile de voir les références de ces parties, et il y a ici un FPGA d'Altera, c'est un cyclone 2, ok, et il y a aussi plusieurs parties sur le côté bas, malheureusement, ce bord a été enlevé de l'assemblée complète, vous pouvez voir que toutes les lignes ont été coupées, ok, donc il nous faut faire un petit réversinger pour reconnecter ces lignes et il peut être intéressant de tester ce dispositif, je pense qu'il devrait être possible, et on peut voir deux petits connecteurs circulaires, ok, un petit connecteur, on a un capteur de température ici, ok, donc je pense qu'il manque quelque chose ici, vous pouvez voir, parce qu'on a ce câble ici, et on en a un autre ici, et on peut voir des résidus de silicone ici, donc je pense qu'il manque quelque chose ici, ce sera intéressant de le savoir, peut-être que c'était le réservoir de puissance pour cette chose, je ne sais pas, je vais avoir besoin de faire le réversingering, c'est tout pour aujourd'hui, merci d'avoir regardé, à la prochaine fois pour une autre vidéo, au revoir.\\n\", metadata={'fileName': 'videoplayback.mp4'})]\n",
            "[447107182758990635]\n"
          ]
        }
      ],
      "source": [
        "# Split the audio file into chunks\n",
        "import time\n",
        "from pydub import AudioSegment\n",
        "from pydub.utils import make_chunks\n",
        "\n",
        "\n",
        "from openai import OpenAI\n",
        "\n",
        "def split_audio(filepath, chunk_duration):\n",
        "    \"\"\"\n",
        "    Splits the audio file into chunks of 'chunk_duration' milliseconds.\n",
        "    Returns a list of file paths for the chunks.\n",
        "    \"\"\"\n",
        "    # Load the audio file\n",
        "    audio = AudioSegment.from_file(filepath)\n",
        "\n",
        "    # Calculate chunk duration in milliseconds\n",
        "    chunk_length_ms = chunk_duration * 1000\n",
        "\n",
        "    # Split file into chunks\n",
        "    chunks = make_chunks(audio, chunk_length_ms)\n",
        "\n",
        "    # Directory to save chunks\n",
        "    chunk_dir = os.path.join(os.path.dirname(filepath), 'chunks')\n",
        "    os.makedirs(chunk_dir, exist_ok=True)\n",
        "\n",
        "    chunk_filepaths = []\n",
        "\n",
        "    timestamp = int(time.time() * 1000)\n",
        "\n",
        "    # Export each chunk as a separate file\n",
        "    for i, chunk in enumerate(chunks):\n",
        "        chunk_name = f\"chunk{i}-{timestamp}.mp3\"  # Change format as needed\n",
        "        chunk_path = os.path.join(chunk_dir, chunk_name)\n",
        "        chunk.export(chunk_path, format=\"mp3\")  # Change format as needed\n",
        "        chunk_filepaths.append(chunk_path)\n",
        "\n",
        "    return chunk_filepaths\n",
        "\n",
        "\n",
        "def transcribe_audio(file_path):\n",
        "    \"\"\"\n",
        "    Transcribe the given audio file using OpenAI's Whisper API.\n",
        "    \"\"\"\n",
        "    # Ensure the OpenAI API key is set\n",
        "    client = OpenAI(api_key=OPENAI_API_KEY)\n",
        "    # Load the audio file content\n",
        "\n",
        "    # Send the audio data to OpenAI for transcription\n",
        "    try:\n",
        "        with open(file_path, 'rb') as audio_file:\n",
        "            response = client.audio.transcriptions.create(\n",
        "                model=\"whisper-1\",\n",
        "                file=audio_file,\n",
        "                response_format = \"text\"\n",
        "            )\n",
        "            transcription = response\n",
        "            print(f\"Transcription: {transcription}\")\n",
        "    except Exception as e:\n",
        "        print(f\"An error occurred during transcription: {e}\")\n",
        "        transcription = \"\"\n",
        "\n",
        "    return transcription\n",
        "\n",
        "all_trans = {}\n",
        "\n",
        "for uploaded_video_file in uploaded:\n",
        "    print(f\"{uploaded_video_file} - in processing\")\n",
        "    create_audio_folder()\n",
        "    sanitized_filename = secure_filename(uploaded_video_file)\n",
        "    chunks = split_audio(filepath=uploaded_video_file, chunk_duration=480)  # 240 seconds = 4 minutes\n",
        "\n",
        "    # Process each chunk\n",
        "    transcriptions = []\n",
        "    for chunk in chunks:\n",
        "        transcription = transcribe_audio(chunk)  # Assuming this is an async function\n",
        "        transcriptions.append(transcription)\n",
        "\n",
        "    print(transcriptions)\n",
        "\n",
        "    # Save in Vectore Store\n",
        "    prepared_documents = make_documents(transcriptions, file_name=uploaded_video_file)\n",
        "    print(prepared_documents)\n",
        "\n",
        "    ids = vector_store.add_documents(prepared_documents)\n",
        "    print(ids)\n",
        "\n",
        "    trans = {\n",
        "        'filename': uploaded_video_file,\n",
        "        'ids' : ids,\n",
        "        'transcriptions': transcriptions,\n",
        "        'prepared_documents': prepared_documents\n",
        "    }\n",
        "    all_trans[uploaded_video_file] = trans\n",
        "\n",
        "\n"
      ]
    },
    {
      "cell_type": "code",
      "execution_count": 26,
      "metadata": {
        "colab": {
          "base_uri": "https://localhost:8080/"
        },
        "id": "5xIQz7prbYp-",
        "outputId": "fc1594fa-2d34-4591-b610-6589ced289cc"
      },
      "outputs": [
        {
          "name": "stdout",
          "output_type": "stream",
          "text": [
            "\n",
            "\n",
            "1) Query\n",
            "text: Ukraine, expr: fileName == \"videoplayback.mp4\"\n",
            "[[0.035374291241168976, 0.042139098048210144, -0.03631306439638138, 0.047212567180395126, -0.005990773439407349, -0.0172591470181942, 0.06458228081464767, -0.03907416760921478, 0.060019560158252716, -0.019359348341822624, -0.05810486897826195, -0.028217393904924393, 0.03245609253644943, 0.036385077983140945, -0.03041859157383442, -0.032956335693597794, -0.03929492458701134, -0.14634238183498383, -0.051932770758867264, -0.08852016180753708, -0.04158470034599304, -0.009792939759790897, 0.07422547042369843, 0.020048413425683975, 0.07841993123292923, 0.013229778036475182, 0.04070732370018959, 0.028417538851499557, 0.02665472775697708, -0.04742160066962242, -0.008339102379977703, -0.07979680597782135, 0.019042091444134712, -0.04242469370365143, -0.0035160325933247805, 0.052693430334329605, -0.010908707045018673, -0.06763660162687302, -0.010740851052105427, 0.055566154420375824, -0.01854785904288292, -0.06257452070713043, -0.015939969569444656, 0.02124876156449318, 0.0021361270919442177, 0.03717059642076492, 0.08551584929227829, 0.021988190710544586, -0.030745146796107292, 0.028878066688776016, 0.013851067051291466, 0.012368937954306602, -0.04642745479941368, 0.016454799100756645, -0.005078933201730251, -0.07721112668514252, -0.022134974598884583, 0.06017166003584862, -0.04387350380420685, -0.01723414659500122, 0.06449352204799652, -0.05060276389122009, -0.07521107792854309, 0.0038842002395540476, -0.02402397058904171, 0.006352792959660292, 0.029643282294273376, 0.0779162347316742, -0.027760770171880722, -0.11400633305311203, 0.05482112616300583, -0.036979496479034424, -0.054956331849098206, -0.0035474072210490704, 0.07883096486330032, -0.03344472125172615, 0.010797737166285515, 0.0448869913816452, 0.07895205169916153, -0.0498441644012928, 0.06978336721658707, -0.017835114151239395, -0.061707135289907455, -0.00151488755363971, -0.0035888473503291607, -0.028707362711429596, -0.019395967945456505, 0.035233274102211, 0.06276433169841766, 0.043258074671030045, -0.023821081966161728, 0.03300071507692337, 0.11575452238321304, 0.01269558910280466, -0.01106890756636858, 0.033641040325164795, 0.06560487300157547, 0.032047804445028305, -0.005946021992713213, 0.19326871633529663, -0.012772924266755581, 0.04332438111305237, -0.013227538205683231, 0.06486566364765167, 0.016143716871738434, -0.025293413549661636, -0.11539354920387268, 0.09663768857717514, -0.03082599863409996, -0.029373154044151306, -0.04347977414727211, 0.022516798228025436, -0.029444076120853424, 0.03903096914291382, -0.01744173653423786, 0.04266943782567978, 0.04809046536684036, -0.03160005435347557, -0.018794164061546326, -0.027573954313993454, 0.011432550847530365, 0.012926128692924976, -0.0840892419219017, 0.055383700877428055, -0.026662249118089676, 0.03731970116496086, -0.06398321688175201, -3.2163501738375106e-33, 0.09384188055992126, -0.08744193613529205, 0.03081381320953369, 0.026889709755778313, -0.09998811781406403, 0.04065105691552162, -0.040802858769893646, -0.014758224599063396, -0.1345752626657486, 0.017327114939689636, 0.02319149300456047, -0.0031969756819307804, 0.021310955286026, -0.03131153807044029, 0.10819211602210999, 0.040380045771598816, 0.02844650112092495, 0.10407832264900208, -0.09398050606250763, 0.08744048327207565, -0.0012591957347467542, 0.09554813802242279, -0.009629786014556885, 0.03851808235049248, -0.013419735245406628, 0.015490290708839893, -0.050509508699178696, -0.01640624739229679, -0.03926382586359978, -0.0007103472598828375, -0.04113556072115898, -0.032832931727170944, -0.05715690925717354, -0.060293570160865784, -0.03790401667356491, -0.043519407510757446, -0.08465707302093506, -0.02826535329222679, 0.011595567688345909, 0.03566230461001396, 0.03248916193842888, -0.00792737491428852, -0.018973976373672485, 0.021433686837553978, 0.10359904915094376, -0.011577178724110126, -0.024969514459371567, 0.0049186344258487225, -0.018461642786860466, 0.010339174419641495, -0.06895221024751663, 0.040796343237161636, -0.022390669211745262, 0.02825116738677025, 0.04662925750017166, 0.03551234304904938, 0.028897227719426155, 0.068086639046669, 0.014377455227077007, 0.04355639964342117, 0.04420428350567818, 0.04764619842171669, 0.05427961423993111, -0.014287845231592655, 0.06287142634391785, -0.13049636781215668, 0.0674382820725441, 0.10234151035547256, -0.024767909198999405, -0.03574652597308159, 0.04759816452860832, 0.014224736951291561, 0.05652046576142311, 0.12702392041683197, -0.04016986861824989, -0.022454071789979935, 0.005857028998434544, 0.025079885497689247, -0.04576963558793068, -0.017264390364289284, -0.0258489940315485, -0.004320056177675724, -0.02699093520641327, 0.006177465431392193, -0.04622829705476761, 0.10104473680257797, -0.0004060329229105264, -0.09340488910675049, -0.07654088735580444, -0.007178323809057474, -0.162372425198555, 0.010659429244697094, -0.0027183855418115854, -0.004803908988833427, -0.007117283996194601, 2.6286560793431462e-33, 0.029626641422510147, -0.07876002043485641, 0.04600698873400688, 0.007044701837003231, -0.016690103337168694, 0.03474557772278786, 0.07296858727931976, 0.04717973992228508, -0.016273150220513344, 0.11835416406393051, 0.007896880619227886, -0.10804038494825363, 0.12738282978534698, 0.053337033838033676, -0.019081667065620422, 0.02850256860256195, 0.06845193356275558, -0.0044794888235628605, -0.035727206617593765, -0.015487637370824814, -0.056355070322752, -0.03859608247876167, 0.00415947288274765, 0.03412625193595886, -0.06362473964691162, -0.010357489809393883, 0.04772297292947769, -0.008783578872680664, -0.061305202543735504, 0.013618916273117065, -0.057108476758003235, -0.05511648952960968, -0.03714633360505104, 0.02493523433804512, 0.04677159711718559, 0.07299699634313583, -0.022131267935037613, -0.017595786601305008, 0.03990217298269272, 0.025781869888305664, 0.014815805479884148, -0.010292813181877136, 0.017811471596360207, 0.17657668888568878, -0.020703047513961792, -0.0013035651063546538, -0.045319005846977234, 0.06504666805267334, -0.006202672608196735, -0.102193683385849, 0.038339074701070786, 0.05897577479481697, -0.05914536118507385, 0.0865432396531105, 0.03546048700809479, -0.0038224318996071815, -0.11327742040157318, 0.05156363919377327, 0.0025160880759358406, -0.04090439900755882, -0.007598117459565401, 0.0335378423333168, -0.026004062965512276, 0.006859990768134594, -0.06488930433988571, 0.02274782769382, -0.026503337547183037, 0.042843107134103775, -0.012189834378659725, 0.02558000013232231, 0.032192956656217575, -0.008399813435971737, -0.06724550575017929, 0.06908619403839111, 0.021259689703583717, 0.06480485200881958, -0.03449860215187073, 0.0471554771065712, 0.015690675005316734, -0.03301282599568367, 0.06718205660581589, -0.03424355387687683, -0.06485820561647415, 0.03266320750117302, 0.012225847691297531, -0.0161418654024601, 0.046775706112384796, -0.015348742716014385, 0.03869142755866051, -0.012381828390061855, -0.038846395909786224, 0.05258966609835625, -0.05543215945363045, -0.03583215922117233, -0.0021406381856650114, -1.1245967712625315e-08, 0.02659635618329048, -0.008955608122050762, -0.039446745067834854, 0.006054301746189594, -0.06462733447551727, -0.01976565085351467, 0.008247547782957554, -0.032113075256347656, -0.05842376872897148, 0.02968393638730049, -0.02418353036046028, -0.03324810042977333, 0.024149445816874504, -0.06045360118150711, -0.04426198825240135, 0.009008881635963917, -0.0053101517260074615, 0.09312600642442703, 0.030246537178754807, 0.05539138615131378, 0.005047391168773174, 0.02285158820450306, 0.05527956411242485, -0.06274391710758209, -0.008635166101157665, -0.03129581734538078, 0.0544663704931736, 0.021002741530537605, 0.08305201679468155, -0.055409014225006104, 0.0388273224234581, -0.02209068462252617, -0.02024359442293644, 0.003665187628939748, -0.06929673254489899, 0.010954578407108784, -0.09198160469532013, 0.0002451714244671166, -0.024509180337190628, -0.06649041175842285, -0.04866613447666168, -0.05683529004454613, 0.012907873839139938, -0.016367429867386818, -0.02986292354762554, -0.06934082508087158, -0.03528622165322304, -0.040472567081451416, -0.0659375712275505, -0.018845153972506523, -0.04367028549313545, 0.01298602856695652, 0.06726054847240448, 0.10830369591712952, 0.06507310271263123, 0.023387573659420013, 0.001800886238925159, 0.0063597955740988255, -0.030762983486056328, 0.09766131639480591, 0.040229279547929764, 0.08080413937568665, 0.011168119497597218, -0.06783252209424973]]\n",
            "Description: Ukraine Expression: fileName == \"videoplayback.mp4\"\n",
            "Results:\n",
            "\tRank: 1 PK: 447107182758990635 Score: 0.24273326992988586 <<<=== SCORE\n",
            "\t\tFile: videoplayback.mp4\n",
            "Bonjour, j'ai reçu deux paquets de l'Ukraine, le plus petit ici est de Kiev, le deuxième\n",
            "est de Denipro. Ok, alors ouvrons le premier. Le premier est ce petit truc, c'est une\n",
            "partie d'un missile iskander russe 9M727 selon le vendeur. Comme vous pouvez le voir, il\n",
            "a vu de meilleurs journées. Ok, alors c'est un sensor optique, comme vous pouvez le voir\n",
            "sur la plaque de céramique, il y a 16 cellules photo, probablement des photodiodes\n",
            "infrarouges. Il semble que tous les connecteurs ont disparu, ok, on peut voir qu'il y a\n",
            "4 PCB identiques, chaque PCB contient 4 amplificateurs, ils sont identiques, ok, alors\n",
            "il y a une autre partie au milieu, c'est un signal, les 16 signaux sont connectés à ce\n",
            "bord, il n'y a probablement qu'un bout, ok, alors c'est le IC de céramique, alors c'est\n",
            "la partie russe, obviément, code 2004, c'est probablement un encodement de ces 16\n",
            "signaux, ça peut être intéressant de faire la réversion de ce petit truc, ça devrait\n",
            "être intéressant de réparer ce sensor, il y aura une vidéo spécifique pour ce sensor,\n",
            "ok, alors voyons le deuxième, ok, alors c'est une chose intéressante, c'est en fait un\n",
            "gyro d'optique de fer, qui a été installé dans un missile russe aussi, ok, alors c'est\n",
            "l'FPGA board, c'était à l'intérieur de ce truc, ok, alors c'est un gyro d'optique de fer\n",
            "de 3 axes, ok, alors on a 3 fois la même chose, un gyro sur chaque axe, il y a un rôle\n",
            "d'optique de fer ici, le gyro d'optique de fer utilise l'effet Sagnac, l'optique de fer\n",
            "est connectée à un LED, un LED infrarouge, il y en a un ici, ok, et à cause de la\n",
            "vitesse constante de la lumière, quand il y a une rotation d'un rôle ici, il y aura un\n",
            "délai relative de la lumière à l'extrémité de l'optique de fer, et ce délai est mesuré à\n",
            "l'aide d'un couplier, donc je pense qu'il y a un feed-back de cette chose, donc je pense\n",
            "que c'est le modulateur de phase, le but du modulateur de phase est de compenser le\n",
            "délai à cause de l'effet Sagnac, vous pouvez voir, il y a deux terminaux ici, cet input\n",
            "est probablement le contrôle du modulateur de phase. J'assume que ce circuit permet de\n",
            "moduler l'intensité de la lumière, on peut voir qu'il y a six parties ici, donc j'assume\n",
            "qu'il y a trois ADC et trois DAC, l'output de la photocelle doit être connecté à un ADC\n",
            "et le DAC permet le contrôle du modulateur de phase, il y a un couplier fort, c'est\n",
            "difficile de voir les références de ces parties, et il y a ici un FPGA d'Altera, c'est\n",
            "un cyclone 2, ok, et il y a aussi plusieurs parties sur le côté bas, malheureusement, ce\n",
            "bord a été enlevé de l'assemblée complète, vous pouvez voir que toutes les lignes ont\n",
            "été coupées, ok, donc il nous faut faire un petit réversinger pour reconnecter ces\n",
            "lignes et il peut être intéressant de tester ce dispositif, je pense qu'il devrait être\n",
            "possible, et on peut voir deux petits connecteurs circulaires, ok, un petit connecteur,\n",
            "on a un capteur de température ici, ok, donc je pense qu'il manque quelque chose ici,\n",
            "vous pouvez voir, parce qu'on a ce câble ici, et on en a un autre ici, et on peut voir\n",
            "des résidus de silicone ici, donc je pense qu'il manque quelque chose ici, ce sera\n",
            "intéressant de le savoir, peut-être que c'était le réservoir de puissance pour cette\n",
            "chose, je ne sais pas, je vais avoir besoin de faire le réversingering, c'est tout pour\n",
            "aujourd'hui, merci d'avoir regardé, à la prochaine fois pour une autre vidéo, au revoir.\n",
            "\n",
            "\n",
            "\n",
            "2) Query ABSENT\n",
            "text: He devoured a large quantity of pizza pie., expr: fileName == \"fileName.txt\"\n",
            "[[0.0926586389541626, 0.10387899726629257, 0.02529732510447502, 0.07277646660804749, -0.09093283861875534, -0.02728363871574402, 0.0971444621682167, 0.06315481662750244, -0.006986891385167837, -0.08392268419265747, 0.01635073497891426, -0.0845772922039032, -0.01996513083577156, 0.028048578649759293, 0.026462916284799576, -0.11682454496622086, 0.11175842583179474, -0.019626278430223465, 0.004995360504835844, -0.03965060040354729, 0.05882453918457031, 0.031169146299362183, 0.02696499042212963, -0.05094258114695549, 0.0168340764939785, 0.013032169081270695, 0.015177512541413307, -0.09198766201734543, -0.007175867911428213, -0.036262597888708115, 0.00489719957113266, 0.046671703457832336, 0.05361352115869522, -0.047655750066041946, 0.04349580407142639, 0.0027455524541437626, 0.029793819412589073, -0.0436551570892334, 0.10616374760866165, 0.011718306690454483, 0.05967254936695099, 0.005528587382286787, 0.008567244745790958, 0.0020710784010589123, -0.02138313092291355, -0.013332471251487732, -0.07864672690629959, -0.022216206416487694, 0.050501499325037, 0.06512919068336487, -0.06660318374633789, -0.013271432369947433, 0.01898864097893238, -0.06039217486977577, 0.030402135103940964, -0.06714612990617752, 0.08087906986474991, 0.03060770407319069, 0.005723696667701006, -0.017260415479540825, -0.12468782812356949, -0.0235749538987875, 0.020616866648197174, 0.012743238359689713, 0.036718111485242844, -0.10431462526321411, -0.006439814809709787, -0.07772962003946304, -0.031953923404216766, 0.10103640705347061, 0.040175627917051315, 0.0724654570221901, 0.02476118877530098, -0.054198428988456726, -0.004520978778600693, -0.0386611707508564, 0.009580434300005436, -0.06233298033475876, -0.03669625148177147, -0.03803732246160507, 0.022714102640748024, 0.05617288872599602, -0.07597879320383072, 0.014564639888703823, -0.03854035586118698, 0.03904009237885475, -0.010148956440389156, -0.0006213047308847308, -0.04762570932507515, 0.03536989167332649, -0.0009647439583204687, -0.04930942505598068, -0.06874970346689224, 0.026779457926750183, -0.0548597127199173, -0.01728372648358345, -0.06143305450677872, -0.08544590324163437, -0.006181738805025816, 0.03193461522459984, 0.017922723665833473, 0.05423593893647194, 0.043810758739709854, -0.06143258139491081, 0.018590431660413742, 0.008964299224317074, -0.048544615507125854, 0.07939977943897247, 0.04870941489934921, 0.05023882910609245, -0.01509187277406454, -0.02796880714595318, -0.015311243012547493, -0.0244072787463665, 0.015338653698563576, 0.012920107692480087, 0.03404207527637482, -0.043722301721572876, -0.08840589970350266, 0.03347388654947281, 0.04067583754658699, 0.004066161811351776, -0.03975914418697357, 0.08265876024961472, -0.06772125512361526, -0.02502240613102913, -0.009103707037866116, -4.37171051048212e-33, 0.011438705958425999, -0.01165514811873436, 0.03374417871236801, 0.038243647664785385, 0.035488374531269073, 0.08459470421075821, -0.007342718541622162, 0.03705568239092827, -0.00926301535218954, -0.04624079912900925, 0.00176063587423414, -0.027906371280550957, -0.06502698361873627, 0.1026429608464241, -0.0005057338275946677, -0.03148965165019035, 0.02335231751203537, 0.046192944049835205, 0.02962225303053856, -0.08259624242782593, -0.01032576896250248, -0.06712818890810013, 0.005046976264566183, -0.012643732130527496, -0.01615000143647194, 0.03815736249089241, -0.0384981743991375, 0.002516858046874404, -0.030432768166065216, -0.0003836556279566139, 0.036077626049518585, 0.04007953032851219, 0.042268481105566025, 0.031312521547079086, 0.11821186542510986, -0.01619795523583889, -0.03402530774474144, 0.041535478085279465, -0.1024170070886612, 0.003834794508293271, -0.01642497442662716, 0.026925617828965187, 0.031583938747644424, 0.0043254392221570015, -0.14780984818935394, -0.0013432303676381707, -0.04860621690750122, 0.03370083123445511, 0.030036138370633125, -0.03732965886592865, 0.0840776190161705, 0.020545972511172295, 0.06505880504846573, -0.028838856145739555, -0.01303718239068985, -0.03180849552154541, 0.043376050889492035, -0.047743555158376694, -0.0018119545420631766, 0.004866858944296837, 0.07727839797735214, 0.06888441741466522, 0.00323205953463912, 0.054522521793842316, -0.10034676641225815, -0.008383814245462418, -0.024407081305980682, 0.01965228281915188, -0.0568317212164402, 0.06453584879636765, -0.0339960977435112, -0.02589862421154976, 0.07468190044164658, -0.05200282484292984, -0.11259341984987259, -0.03287438675761223, -0.04328393191099167, 0.01541831437498331, -0.017607716843485832, 0.036103326827287674, 0.04278700426220894, -0.036166269332170486, 0.0733690857887268, -0.047152526676654816, -0.06574824452400208, 0.05068761855363846, 0.023568615317344666, -0.05823178589344025, 0.06138287112116814, 0.04279528185725212, -0.0466163195669651, -0.050261739641427994, 0.029362615197896957, -0.061820607632398605, -0.11941111087799072, 1.4155788782376662e-33, -0.09106606990098953, 0.08200039714574814, -0.012199334800243378, 0.016970228403806686, -0.0061735836789011955, -0.03462458401918411, -0.06933239102363586, 0.014518879354000092, -0.01627506874501705, -0.09359608590602875, -0.022512471303343773, 0.011373378336429596, 0.12351550161838531, -0.04109586030244827, -0.004215164575725794, 0.11798997223377228, 0.03776470944285393, 0.061211343854665756, -0.008860506117343903, 0.017018551006913185, -0.06936217844486237, -0.0481453500688076, 0.027989724650979042, 0.053524330258369446, -0.030000004917383194, 0.06286395341157913, 0.02359664998948574, 0.006903366651386023, -0.05026064068078995, -0.002289589261636138, -0.04232688620686531, -0.05779300257563591, -0.02501806430518627, -0.013917786069214344, -0.02288943901658058, 0.09178279340267181, -0.010095297358930111, 0.03424561396241188, 0.036238107830286026, -0.039615143090486526, -0.04291335120797157, -0.06609933823347092, 0.027705848217010498, 0.06659886986017227, 0.0438113771378994, -0.025898879393935204, 0.03193632885813713, -0.022084593772888184, 0.03863959014415741, 0.0754740834236145, -0.011217174120247364, 0.0035740546882152557, -0.010626089759171009, 0.021468453109264374, 0.015233520418405533, 0.06683364510536194, -0.037982191890478134, 0.07035081088542938, -0.011910528875887394, -0.0893973708152771, -0.08400291949510574, -0.02802358567714691, 0.02073383890092373, 0.05715271458029747, -0.011274737305939198, 0.034678198397159576, 0.02664036862552166, -0.025614092126488686, -0.013190102763473988, 0.03359784930944443, -0.018544139340519905, 0.06211165711283684, 0.05550236999988556, 0.017478445544838905, -0.04125456511974335, -0.029141783714294434, -0.09825509786605835, -0.014822030439972878, -0.043641746044158936, 0.0005448315641842782, -0.02674930915236473, -0.07762695848941803, -0.002081233076751232, 0.024496326223015785, 0.03294822946190834, -0.08187809586524963, 0.0014667524956166744, -0.1092124879360199, -0.07265260815620422, 0.05271127447485924, -0.03906848654150963, 0.009134151972830296, 0.06368061155080795, -0.0259409099817276, 0.0829569548368454, -1.798183646428697e-08, 0.022204622626304626, -0.03584187105298042, -0.033664874732494354, 0.014221438206732273, 0.10967861115932465, -0.043677568435668945, -0.03691470995545387, 0.02896362729370594, -0.03736387565732002, 0.07086551934480667, -0.14406882226467133, 0.0727689266204834, 0.07011039555072784, 0.0073583098128438, 0.0046136993914842606, -0.043869711458683014, 0.02903830073773861, -0.03811796382069588, -0.03826652839779854, 0.0315927118062973, -0.021266378462314606, 0.01757352240383625, 0.02317694202065468, -0.04139934107661247, 0.04187537357211113, -0.0021486927289515734, -0.016432354226708412, 0.03809574618935585, -0.0028453872073441744, 0.022026343271136284, 0.05107757821679115, -0.026283428072929382, -0.12029750645160675, -0.038429830223321915, 0.0519731380045414, 0.022366836667060852, -0.054642681032419205, -0.03892935812473297, 0.05961472541093826, -0.01803513616323471, -0.045195382088422775, 0.05682922154664993, 0.03402811288833618, 0.04018094018101692, 0.00910746119916439, -0.008804233744740486, -0.07732673734426498, -0.008398588746786118, 0.004259184468537569, 0.08520487695932388, 0.0026367269456386566, 0.09572847932577133, 0.009628902189433575, -0.02094009704887867, 0.1389080286026001, -0.07229219377040863, 0.06461729109287262, 0.03899853676557541, 0.016131602227687836, 0.08523229509592056, -0.006593836471438408, 0.06992322951555252, 0.06427562981843948, -0.11694642156362534]]\n",
            "Description: He devoured a large quantity of pizza pie. Expression: fileName == \"fileName.txt\"\n",
            "Results:\n",
            "\n",
            "\n",
            "3) Query\n",
            "text: None, expr: \n",
            "[[0.0926586389541626, 0.10387899726629257, 0.02529732510447502, 0.07277646660804749, -0.09093283861875534, -0.02728363871574402, 0.0971444621682167, 0.06315481662750244, -0.006986891385167837, -0.08392268419265747, 0.01635073497891426, -0.0845772922039032, -0.01996513083577156, 0.028048578649759293, 0.026462916284799576, -0.11682454496622086, 0.11175842583179474, -0.019626278430223465, 0.004995360504835844, -0.03965060040354729, 0.05882453918457031, 0.031169146299362183, 0.02696499042212963, -0.05094258114695549, 0.0168340764939785, 0.013032169081270695, 0.015177512541413307, -0.09198766201734543, -0.007175867911428213, -0.036262597888708115, 0.00489719957113266, 0.046671703457832336, 0.05361352115869522, -0.047655750066041946, 0.04349580407142639, 0.0027455524541437626, 0.029793819412589073, -0.0436551570892334, 0.10616374760866165, 0.011718306690454483, 0.05967254936695099, 0.005528587382286787, 0.008567244745790958, 0.0020710784010589123, -0.02138313092291355, -0.013332471251487732, -0.07864672690629959, -0.022216206416487694, 0.050501499325037, 0.06512919068336487, -0.06660318374633789, -0.013271432369947433, 0.01898864097893238, -0.06039217486977577, 0.030402135103940964, -0.06714612990617752, 0.08087906986474991, 0.03060770407319069, 0.005723696667701006, -0.017260415479540825, -0.12468782812356949, -0.0235749538987875, 0.020616866648197174, 0.012743238359689713, 0.036718111485242844, -0.10431462526321411, -0.006439814809709787, -0.07772962003946304, -0.031953923404216766, 0.10103640705347061, 0.040175627917051315, 0.0724654570221901, 0.02476118877530098, -0.054198428988456726, -0.004520978778600693, -0.0386611707508564, 0.009580434300005436, -0.06233298033475876, -0.03669625148177147, -0.03803732246160507, 0.022714102640748024, 0.05617288872599602, -0.07597879320383072, 0.014564639888703823, -0.03854035586118698, 0.03904009237885475, -0.010148956440389156, -0.0006213047308847308, -0.04762570932507515, 0.03536989167332649, -0.0009647439583204687, -0.04930942505598068, -0.06874970346689224, 0.026779457926750183, -0.0548597127199173, -0.01728372648358345, -0.06143305450677872, -0.08544590324163437, -0.006181738805025816, 0.03193461522459984, 0.017922723665833473, 0.05423593893647194, 0.043810758739709854, -0.06143258139491081, 0.018590431660413742, 0.008964299224317074, -0.048544615507125854, 0.07939977943897247, 0.04870941489934921, 0.05023882910609245, -0.01509187277406454, -0.02796880714595318, -0.015311243012547493, -0.0244072787463665, 0.015338653698563576, 0.012920107692480087, 0.03404207527637482, -0.043722301721572876, -0.08840589970350266, 0.03347388654947281, 0.04067583754658699, 0.004066161811351776, -0.03975914418697357, 0.08265876024961472, -0.06772125512361526, -0.02502240613102913, -0.009103707037866116, -4.37171051048212e-33, 0.011438705958425999, -0.01165514811873436, 0.03374417871236801, 0.038243647664785385, 0.035488374531269073, 0.08459470421075821, -0.007342718541622162, 0.03705568239092827, -0.00926301535218954, -0.04624079912900925, 0.00176063587423414, -0.027906371280550957, -0.06502698361873627, 0.1026429608464241, -0.0005057338275946677, -0.03148965165019035, 0.02335231751203537, 0.046192944049835205, 0.02962225303053856, -0.08259624242782593, -0.01032576896250248, -0.06712818890810013, 0.005046976264566183, -0.012643732130527496, -0.01615000143647194, 0.03815736249089241, -0.0384981743991375, 0.002516858046874404, -0.030432768166065216, -0.0003836556279566139, 0.036077626049518585, 0.04007953032851219, 0.042268481105566025, 0.031312521547079086, 0.11821186542510986, -0.01619795523583889, -0.03402530774474144, 0.041535478085279465, -0.1024170070886612, 0.003834794508293271, -0.01642497442662716, 0.026925617828965187, 0.031583938747644424, 0.0043254392221570015, -0.14780984818935394, -0.0013432303676381707, -0.04860621690750122, 0.03370083123445511, 0.030036138370633125, -0.03732965886592865, 0.0840776190161705, 0.020545972511172295, 0.06505880504846573, -0.028838856145739555, -0.01303718239068985, -0.03180849552154541, 0.043376050889492035, -0.047743555158376694, -0.0018119545420631766, 0.004866858944296837, 0.07727839797735214, 0.06888441741466522, 0.00323205953463912, 0.054522521793842316, -0.10034676641225815, -0.008383814245462418, -0.024407081305980682, 0.01965228281915188, -0.0568317212164402, 0.06453584879636765, -0.0339960977435112, -0.02589862421154976, 0.07468190044164658, -0.05200282484292984, -0.11259341984987259, -0.03287438675761223, -0.04328393191099167, 0.01541831437498331, -0.017607716843485832, 0.036103326827287674, 0.04278700426220894, -0.036166269332170486, 0.0733690857887268, -0.047152526676654816, -0.06574824452400208, 0.05068761855363846, 0.023568615317344666, -0.05823178589344025, 0.06138287112116814, 0.04279528185725212, -0.0466163195669651, -0.050261739641427994, 0.029362615197896957, -0.061820607632398605, -0.11941111087799072, 1.4155788782376662e-33, -0.09106606990098953, 0.08200039714574814, -0.012199334800243378, 0.016970228403806686, -0.0061735836789011955, -0.03462458401918411, -0.06933239102363586, 0.014518879354000092, -0.01627506874501705, -0.09359608590602875, -0.022512471303343773, 0.011373378336429596, 0.12351550161838531, -0.04109586030244827, -0.004215164575725794, 0.11798997223377228, 0.03776470944285393, 0.061211343854665756, -0.008860506117343903, 0.017018551006913185, -0.06936217844486237, -0.0481453500688076, 0.027989724650979042, 0.053524330258369446, -0.030000004917383194, 0.06286395341157913, 0.02359664998948574, 0.006903366651386023, -0.05026064068078995, -0.002289589261636138, -0.04232688620686531, -0.05779300257563591, -0.02501806430518627, -0.013917786069214344, -0.02288943901658058, 0.09178279340267181, -0.010095297358930111, 0.03424561396241188, 0.036238107830286026, -0.039615143090486526, -0.04291335120797157, -0.06609933823347092, 0.027705848217010498, 0.06659886986017227, 0.0438113771378994, -0.025898879393935204, 0.03193632885813713, -0.022084593772888184, 0.03863959014415741, 0.0754740834236145, -0.011217174120247364, 0.0035740546882152557, -0.010626089759171009, 0.021468453109264374, 0.015233520418405533, 0.06683364510536194, -0.037982191890478134, 0.07035081088542938, -0.011910528875887394, -0.0893973708152771, -0.08400291949510574, -0.02802358567714691, 0.02073383890092373, 0.05715271458029747, -0.011274737305939198, 0.034678198397159576, 0.02664036862552166, -0.025614092126488686, -0.013190102763473988, 0.03359784930944443, -0.018544139340519905, 0.06211165711283684, 0.05550236999988556, 0.017478445544838905, -0.04125456511974335, -0.029141783714294434, -0.09825509786605835, -0.014822030439972878, -0.043641746044158936, 0.0005448315641842782, -0.02674930915236473, -0.07762695848941803, -0.002081233076751232, 0.024496326223015785, 0.03294822946190834, -0.08187809586524963, 0.0014667524956166744, -0.1092124879360199, -0.07265260815620422, 0.05271127447485924, -0.03906848654150963, 0.009134151972830296, 0.06368061155080795, -0.0259409099817276, 0.0829569548368454, -1.798183646428697e-08, 0.022204622626304626, -0.03584187105298042, -0.033664874732494354, 0.014221438206732273, 0.10967861115932465, -0.043677568435668945, -0.03691470995545387, 0.02896362729370594, -0.03736387565732002, 0.07086551934480667, -0.14406882226467133, 0.0727689266204834, 0.07011039555072784, 0.0073583098128438, 0.0046136993914842606, -0.043869711458683014, 0.02903830073773861, -0.03811796382069588, -0.03826652839779854, 0.0315927118062973, -0.021266378462314606, 0.01757352240383625, 0.02317694202065468, -0.04139934107661247, 0.04187537357211113, -0.0021486927289515734, -0.016432354226708412, 0.03809574618935585, -0.0028453872073441744, 0.022026343271136284, 0.05107757821679115, -0.026283428072929382, -0.12029750645160675, -0.038429830223321915, 0.0519731380045414, 0.022366836667060852, -0.054642681032419205, -0.03892935812473297, 0.05961472541093826, -0.01803513616323471, -0.045195382088422775, 0.05682922154664993, 0.03402811288833618, 0.04018094018101692, 0.00910746119916439, -0.008804233744740486, -0.07732673734426498, -0.008398588746786118, 0.004259184468537569, 0.08520487695932388, 0.0026367269456386566, 0.09572847932577133, 0.009628902189433575, -0.02094009704887867, 0.1389080286026001, -0.07229219377040863, 0.06461729109287262, 0.03899853676557541, 0.016131602227687836, 0.08523229509592056, -0.006593836471438408, 0.06992322951555252, 0.06427562981843948, -0.11694642156362534]]\n",
            "Description: None Expression: \n",
            "Results:\n",
            "\tRank: 1 PK: 447107182758990633 Score: 0.10397475957870483 <<<=== SCORE\n",
            "\t\tFile: Anduril Lattice Counter Drone System.mp4\n",
            "♪♪ ♪♪ ♪♪ ♪♪ ♪♪ ♪♪ ♪♪ ♪♪ ♪♪ ♪♪ ♪♪ ♪♪ ♪♪\n",
            "\n",
            "\tRank: 2 PK: 447107182758990635 Score: -0.016314925625920296 <<<=== SCORE\n",
            "\t\tFile: videoplayback.mp4\n",
            "Bonjour, j'ai reçu deux paquets de l'Ukraine, le plus petit ici est de Kiev, le deuxième\n",
            "est de Denipro. Ok, alors ouvrons le premier. Le premier est ce petit truc, c'est une\n",
            "partie d'un missile iskander russe 9M727 selon le vendeur. Comme vous pouvez le voir, il\n",
            "a vu de meilleurs journées. Ok, alors c'est un sensor optique, comme vous pouvez le voir\n",
            "sur la plaque de céramique, il y a 16 cellules photo, probablement des photodiodes\n",
            "infrarouges. Il semble que tous les connecteurs ont disparu, ok, on peut voir qu'il y a\n",
            "4 PCB identiques, chaque PCB contient 4 amplificateurs, ils sont identiques, ok, alors\n",
            "il y a une autre partie au milieu, c'est un signal, les 16 signaux sont connectés à ce\n",
            "bord, il n'y a probablement qu'un bout, ok, alors c'est le IC de céramique, alors c'est\n",
            "la partie russe, obviément, code 2004, c'est probablement un encodement de ces 16\n",
            "signaux, ça peut être intéressant de faire la réversion de ce petit truc, ça devrait\n",
            "être intéressant de réparer ce sensor, il y aura une vidéo spécifique pour ce sensor,\n",
            "ok, alors voyons le deuxième, ok, alors c'est une chose intéressante, c'est en fait un\n",
            "gyro d'optique de fer, qui a été installé dans un missile russe aussi, ok, alors c'est\n",
            "l'FPGA board, c'était à l'intérieur de ce truc, ok, alors c'est un gyro d'optique de fer\n",
            "de 3 axes, ok, alors on a 3 fois la même chose, un gyro sur chaque axe, il y a un rôle\n",
            "d'optique de fer ici, le gyro d'optique de fer utilise l'effet Sagnac, l'optique de fer\n",
            "est connectée à un LED, un LED infrarouge, il y en a un ici, ok, et à cause de la\n",
            "vitesse constante de la lumière, quand il y a une rotation d'un rôle ici, il y aura un\n",
            "délai relative de la lumière à l'extrémité de l'optique de fer, et ce délai est mesuré à\n",
            "l'aide d'un couplier, donc je pense qu'il y a un feed-back de cette chose, donc je pense\n",
            "que c'est le modulateur de phase, le but du modulateur de phase est de compenser le\n",
            "délai à cause de l'effet Sagnac, vous pouvez voir, il y a deux terminaux ici, cet input\n",
            "est probablement le contrôle du modulateur de phase. J'assume que ce circuit permet de\n",
            "moduler l'intensité de la lumière, on peut voir qu'il y a six parties ici, donc j'assume\n",
            "qu'il y a trois ADC et trois DAC, l'output de la photocelle doit être connecté à un ADC\n",
            "et le DAC permet le contrôle du modulateur de phase, il y a un couplier fort, c'est\n",
            "difficile de voir les références de ces parties, et il y a ici un FPGA d'Altera, c'est\n",
            "un cyclone 2, ok, et il y a aussi plusieurs parties sur le côté bas, malheureusement, ce\n",
            "bord a été enlevé de l'assemblée complète, vous pouvez voir que toutes les lignes ont\n",
            "été coupées, ok, donc il nous faut faire un petit réversinger pour reconnecter ces\n",
            "lignes et il peut être intéressant de tester ce dispositif, je pense qu'il devrait être\n",
            "possible, et on peut voir deux petits connecteurs circulaires, ok, un petit connecteur,\n",
            "on a un capteur de température ici, ok, donc je pense qu'il manque quelque chose ici,\n",
            "vous pouvez voir, parce qu'on a ce câble ici, et on en a un autre ici, et on peut voir\n",
            "des résidus de silicone ici, donc je pense qu'il manque quelque chose ici, ce sera\n",
            "intéressant de le savoir, peut-être que c'était le réservoir de puissance pour cette\n",
            "chose, je ne sais pas, je vais avoir besoin de faire le réversingering, c'est tout pour\n",
            "aujourd'hui, merci d'avoir regardé, à la prochaine fois pour une autre vidéo, au revoir.\n",
            "\n",
            "\tRank: 3 PK: 447107182758990631 Score: -0.06825054436922073 <<<=== SCORE\n",
            "\t\tFile: Ground Effects Vehicles.mp4\n",
            "I'm John Schuster, and I've been working with wings and ground effect for many years.\n",
            "Somewhat stimulated by the work that Dr. Alexander Lippisch did back in the 60s at\n",
            "Collins Radio Company where he developed the concept of the ram wing and the airfoil\n",
            "boat as they called it. This model here works on that principle and it's a model of one\n",
            "of Lippisch's later ground effect airplanes, their wing and ground effect. It's a Dorney\n",
            "Air model called the X-113, and you can look that up, very similar here except it will\n",
            "have sponsons because it takes off from water, and it will also have polyhedral wingtips\n",
            "somewhat like we have on this model in order to improve the stability of the airplane.\n",
            "The way this concept works is that it's called a captured air bubble. As the airplane\n",
            "moves along the ground, air is pushed under the wing and the trailing edges are sealed\n",
            "against the water or the ground, so the air basically comes to a halt under there, and\n",
            "we call that stagnation pressure. That's what lifts the model up, as the model lifts up\n",
            "then the air vents, but as it continues to move forward it continues to process this\n",
            "captured air bubble through the wing. The T-tail is on there to keep the nose down\n",
            "because you may be familiar with the unlimited hydroplanes and how once they hit rough\n",
            "water and pitch up they'll continue to depart front over back. This would do the same if\n",
            "we didn't have the T-tail. This T-tail is a lifting tail, you can see from the camber,\n",
            "the curvature of the surface that it's designed to lift up. Because as the airplane\n",
            "moves out of ground effect, up and away, the center pressure moves from the centroid of\n",
            "the area forward, and as it does that, and because there's no movable control surfaces,\n",
            "it pitches up. As a result, the way to defeat that is to make a large enough tail that\n",
            "keeps the nose down when it's moving along. That's the basic principle, the X-113 was\n",
            "1965, maybe, and the Collins airfoil boat was 63 or earlier. This concept here is\n",
            "exactly the same, just a little bit different, dihedral angle and lifting tail. It also\n",
            "has a surface along here that tries to improve the trailing edge seal against the\n",
            "ground, and so its performance maybe is a little bit better. This one's the same, just\n",
            "many ways of showing you how they're built. This one, open structure with monocoat, and\n",
            "the rest of these are basically solids. What I found out over the years of flying these\n",
            "things is that it really doesn't matter what goes on under the wing. You can have skin\n",
            "over the wing on the underside, or you can have it just form a single sheet of balsa in\n",
            "this case. You can see the constant element lines, 10, 15, 20, 25 percent, well actually\n",
            "it's a little bit more than that, but at any rate, and it's just curved. It doesn't\n",
            "really affect the performance. I found out quite by accident through damaging these\n",
            "models that even with the skin removed off the bottom on one side and skin on the other,\n",
            "it performed the same. It really couldn't tell the difference. So with that, and this\n",
            "one's a variation on the theme, I was trying to get a model that you could also throw as\n",
            "a free flight up and away, and it would be trimmed, so it's definitely a different issue\n",
            "than what we had to deal with when we were flying in ground effect because as I\n",
            "mentioned, the center of pressure shift. This one tries to do two things. It's balanced\n",
            "forward so it can fly free flight, and it also has the polyhedral and the V-tail which\n",
            "tend to counteract the anhedral that you see on this airplane. This airplane trying to\n",
            "fly free and up and away will want to roll over so that the dihedral is in the normal\n",
            "direction, but to counteract that, the V-tail and the tips seem to allow this one to fly\n",
            "free. It also flies a little bit in ground effect, and we can see that, but the best\n",
            "performers in ground effect are these two here. This one I use over very rough surfaces,\n",
            "asphalt, street, sidewalk, what have you, and you can see it's well beaten up, and it\n",
            "doesn't really make much difference whether you take the details to make it look fairly\n",
            "nice or just leave it rough, it flies just as well. This one has end plates on the wing\n",
            "to keep air from leaking out the sides, and other than that, they're basically the same.\n",
            "Okay.\n",
            "\n"
          ]
        }
      ],
      "source": [
        "collection = Collection(_COLLECTION_NAME)\n",
        "_QUERY_PARAM = {\n",
        "    \"metric_type\": \"COSINE\",\n",
        "    \"params\": {\"ef\": 64},\n",
        "}\n",
        "\n",
        "import textwrap\n",
        "\n",
        "def query(query, embed = None, top_k = 5):\n",
        "    text, expr = query\n",
        "    if text is not None :\n",
        "      embed = [embeddings.embed_query(text)]\n",
        "    print(f\"text: {text}, expr: {expr}\")\n",
        "    print(embed)\n",
        "    res = collection.search(embed,\n",
        "                            anns_field='vector',\n",
        "                            expr = expr,\n",
        "                            param=_QUERY_PARAM,\n",
        "                            limit = top_k,\n",
        "                            output_fields=['pk', 'text', 'fileName'])\n",
        "    for i, hit in enumerate(res):\n",
        "        print('Description:', text, 'Expression:', expr)\n",
        "        print('Results:')\n",
        "        for ii, hits in enumerate(hit):\n",
        "            # pprint(hits)\n",
        "            print('\\t' + 'Rank:', ii + 1, 'PK:', hits.id, \"Score:\", hits.score, \"<<<=== SCORE\")\n",
        "            print('\\t\\t' + 'File:', hits.entity.get('fileName'))\n",
        "            print(textwrap.fill(hits.entity.get('text'), 88))\n",
        "            print()\n",
        "\n",
        "print(\"\\n\\n1) Query\")\n",
        "query(query=('Ukraine', 'fileName == \"videoplayback.mp4\"'), top_k=5)\n",
        "\n",
        "print(\"\\n\\n2) Query ABSENT\")\n",
        "query(query=('He devoured a large quantity of pizza pie.', 'fileName == \"fileName.txt\"'), top_k=3)\n",
        "\n",
        "print(\"\\n\\n3) Query\")\n",
        "query(query=(None,''), embed = [[0.0926586389541626, 0.10387899726629257, 0.02529732510447502, 0.07277646660804749, -0.09093283861875534, -0.02728363871574402, 0.0971444621682167, 0.06315481662750244, -0.006986891385167837, -0.08392268419265747, 0.01635073497891426, -0.0845772922039032, -0.01996513083577156, 0.028048578649759293, 0.026462916284799576, -0.11682454496622086, 0.11175842583179474, -0.019626278430223465, 0.004995360504835844, -0.03965060040354729, 0.05882453918457031, 0.031169146299362183, 0.02696499042212963, -0.05094258114695549, 0.0168340764939785, 0.013032169081270695, 0.015177512541413307, -0.09198766201734543, -0.007175867911428213, -0.036262597888708115, 0.00489719957113266, 0.046671703457832336, 0.05361352115869522, -0.047655750066041946, 0.04349580407142639, 0.0027455524541437626, 0.029793819412589073, -0.0436551570892334, 0.10616374760866165, 0.011718306690454483, 0.05967254936695099, 0.005528587382286787, 0.008567244745790958, 0.0020710784010589123, -0.02138313092291355, -0.013332471251487732, -0.07864672690629959, -0.022216206416487694, 0.050501499325037, 0.06512919068336487, -0.06660318374633789, -0.013271432369947433, 0.01898864097893238, -0.06039217486977577, 0.030402135103940964, -0.06714612990617752, 0.08087906986474991, 0.03060770407319069, 0.005723696667701006, -0.017260415479540825, -0.12468782812356949, -0.0235749538987875, 0.020616866648197174, 0.012743238359689713, 0.036718111485242844, -0.10431462526321411, -0.006439814809709787, -0.07772962003946304, -0.031953923404216766, 0.10103640705347061, 0.040175627917051315, 0.0724654570221901, 0.02476118877530098, -0.054198428988456726, -0.004520978778600693, -0.0386611707508564, 0.009580434300005436, -0.06233298033475876, -0.03669625148177147, -0.03803732246160507, 0.022714102640748024, 0.05617288872599602, -0.07597879320383072, 0.014564639888703823, -0.03854035586118698, 0.03904009237885475, -0.010148956440389156, -0.0006213047308847308, -0.04762570932507515, 0.03536989167332649, -0.0009647439583204687, -0.04930942505598068, -0.06874970346689224, 0.026779457926750183, -0.0548597127199173, -0.01728372648358345, -0.06143305450677872, -0.08544590324163437, -0.006181738805025816, 0.03193461522459984, 0.017922723665833473, 0.05423593893647194, 0.043810758739709854, -0.06143258139491081, 0.018590431660413742, 0.008964299224317074, -0.048544615507125854, 0.07939977943897247, 0.04870941489934921, 0.05023882910609245, -0.01509187277406454, -0.02796880714595318, -0.015311243012547493, -0.0244072787463665, 0.015338653698563576, 0.012920107692480087, 0.03404207527637482, -0.043722301721572876, -0.08840589970350266, 0.03347388654947281, 0.04067583754658699, 0.004066161811351776, -0.03975914418697357, 0.08265876024961472, -0.06772125512361526, -0.02502240613102913, -0.009103707037866116, -4.37171051048212e-33, 0.011438705958425999, -0.01165514811873436, 0.03374417871236801, 0.038243647664785385, 0.035488374531269073, 0.08459470421075821, -0.007342718541622162, 0.03705568239092827, -0.00926301535218954, -0.04624079912900925, 0.00176063587423414, -0.027906371280550957, -0.06502698361873627, 0.1026429608464241, -0.0005057338275946677, -0.03148965165019035, 0.02335231751203537, 0.046192944049835205, 0.02962225303053856, -0.08259624242782593, -0.01032576896250248, -0.06712818890810013, 0.005046976264566183, -0.012643732130527496, -0.01615000143647194, 0.03815736249089241, -0.0384981743991375, 0.002516858046874404, -0.030432768166065216, -0.0003836556279566139, 0.036077626049518585, 0.04007953032851219, 0.042268481105566025, 0.031312521547079086, 0.11821186542510986, -0.01619795523583889, -0.03402530774474144, 0.041535478085279465, -0.1024170070886612, 0.003834794508293271, -0.01642497442662716, 0.026925617828965187, 0.031583938747644424, 0.0043254392221570015, -0.14780984818935394, -0.0013432303676381707, -0.04860621690750122, 0.03370083123445511, 0.030036138370633125, -0.03732965886592865, 0.0840776190161705, 0.020545972511172295, 0.06505880504846573, -0.028838856145739555, -0.01303718239068985, -0.03180849552154541, 0.043376050889492035, -0.047743555158376694, -0.0018119545420631766, 0.004866858944296837, 0.07727839797735214, 0.06888441741466522, 0.00323205953463912, 0.054522521793842316, -0.10034676641225815, -0.008383814245462418, -0.024407081305980682, 0.01965228281915188, -0.0568317212164402, 0.06453584879636765, -0.0339960977435112, -0.02589862421154976, 0.07468190044164658, -0.05200282484292984, -0.11259341984987259, -0.03287438675761223, -0.04328393191099167, 0.01541831437498331, -0.017607716843485832, 0.036103326827287674, 0.04278700426220894, -0.036166269332170486, 0.0733690857887268, -0.047152526676654816, -0.06574824452400208, 0.05068761855363846, 0.023568615317344666, -0.05823178589344025, 0.06138287112116814, 0.04279528185725212, -0.0466163195669651, -0.050261739641427994, 0.029362615197896957, -0.061820607632398605, -0.11941111087799072, 1.4155788782376662e-33, -0.09106606990098953, 0.08200039714574814, -0.012199334800243378, 0.016970228403806686, -0.0061735836789011955, -0.03462458401918411, -0.06933239102363586, 0.014518879354000092, -0.01627506874501705, -0.09359608590602875, -0.022512471303343773, 0.011373378336429596, 0.12351550161838531, -0.04109586030244827, -0.004215164575725794, 0.11798997223377228, 0.03776470944285393, 0.061211343854665756, -0.008860506117343903, 0.017018551006913185, -0.06936217844486237, -0.0481453500688076, 0.027989724650979042, 0.053524330258369446, -0.030000004917383194, 0.06286395341157913, 0.02359664998948574, 0.006903366651386023, -0.05026064068078995, -0.002289589261636138, -0.04232688620686531, -0.05779300257563591, -0.02501806430518627, -0.013917786069214344, -0.02288943901658058, 0.09178279340267181, -0.010095297358930111, 0.03424561396241188, 0.036238107830286026, -0.039615143090486526, -0.04291335120797157, -0.06609933823347092, 0.027705848217010498, 0.06659886986017227, 0.0438113771378994, -0.025898879393935204, 0.03193632885813713, -0.022084593772888184, 0.03863959014415741, 0.0754740834236145, -0.011217174120247364, 0.0035740546882152557, -0.010626089759171009, 0.021468453109264374, 0.015233520418405533, 0.06683364510536194, -0.037982191890478134, 0.07035081088542938, -0.011910528875887394, -0.0893973708152771, -0.08400291949510574, -0.02802358567714691, 0.02073383890092373, 0.05715271458029747, -0.011274737305939198, 0.034678198397159576, 0.02664036862552166, -0.025614092126488686, -0.013190102763473988, 0.03359784930944443, -0.018544139340519905, 0.06211165711283684, 0.05550236999988556, 0.017478445544838905, -0.04125456511974335, -0.029141783714294434, -0.09825509786605835, -0.014822030439972878, -0.043641746044158936, 0.0005448315641842782, -0.02674930915236473, -0.07762695848941803, -0.002081233076751232, 0.024496326223015785, 0.03294822946190834, -0.08187809586524963, 0.0014667524956166744, -0.1092124879360199, -0.07265260815620422, 0.05271127447485924, -0.03906848654150963, 0.009134151972830296, 0.06368061155080795, -0.0259409099817276, 0.0829569548368454, -1.798183646428697e-08, 0.022204622626304626, -0.03584187105298042, -0.033664874732494354, 0.014221438206732273, 0.10967861115932465, -0.043677568435668945, -0.03691470995545387, 0.02896362729370594, -0.03736387565732002, 0.07086551934480667, -0.14406882226467133, 0.0727689266204834, 0.07011039555072784, 0.0073583098128438, 0.0046136993914842606, -0.043869711458683014, 0.02903830073773861, -0.03811796382069588, -0.03826652839779854, 0.0315927118062973, -0.021266378462314606, 0.01757352240383625, 0.02317694202065468, -0.04139934107661247, 0.04187537357211113, -0.0021486927289515734, -0.016432354226708412, 0.03809574618935585, -0.0028453872073441744, 0.022026343271136284, 0.05107757821679115, -0.026283428072929382, -0.12029750645160675, -0.038429830223321915, 0.0519731380045414, 0.022366836667060852, -0.054642681032419205, -0.03892935812473297, 0.05961472541093826, -0.01803513616323471, -0.045195382088422775, 0.05682922154664993, 0.03402811288833618, 0.04018094018101692, 0.00910746119916439, -0.008804233744740486, -0.07732673734426498, -0.008398588746786118, 0.004259184468537569, 0.08520487695932388, 0.0026367269456386566, 0.09572847932577133, 0.009628902189433575, -0.02094009704887867, 0.1389080286026001, -0.07229219377040863, 0.06461729109287262, 0.03899853676557541, 0.016131602227687836, 0.08523229509592056, -0.006593836471438408, 0.06992322951555252, 0.06427562981843948, -0.11694642156362534]])\n",
        "\n"
      ]
    }
  ],
  "metadata": {
    "colab": {
      "authorship_tag": "ABX9TyPmVcmTLsIGfMpj8cBllyz1",
      "include_colab_link": true,
      "provenance": []
    },
    "kernelspec": {
      "display_name": "Python 3",
      "name": "python3"
    },
    "language_info": {
      "name": "python"
    }
  },
  "nbformat": 4,
  "nbformat_minor": 0
}
